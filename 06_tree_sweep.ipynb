{
 "cells": [
  {
   "cell_type": "code",
   "execution_count": 1,
   "id": "c975e4b2",
   "metadata": {},
   "outputs": [],
   "source": [
    "# Base on wandb documentation: Scikit-learn integration\n",
    "import os\n",
    "import matplotlib.pyplot as plt\n",
    "import numpy as np\n",
    "import pandas as pd\n",
    "\n",
    "from sklearn.tree import DecisionTreeClassifier\n",
    "from sklearn.tree import plot_tree\n",
    "\n",
    "from sklearn.exceptions import ConvergenceWarning\n",
    "import warnings\n",
    "import pickle\n",
    "import wandb\n",
    "from sklearn.model_selection import train_test_split\n",
    "\n",
    "from sklearn.metrics import accuracy_score, precision_score, recall_score, roc_auc_score, f1_score, confusion_matrix, roc_curve, mean_squared_error\n",
    "\n",
    "warnings.filterwarnings(\"ignore\", category=ConvergenceWarning)"
   ]
  },
  {
   "cell_type": "code",
   "execution_count": 2,
   "id": "ce3e3ff0",
   "metadata": {},
   "outputs": [],
   "source": [
    "def load_and_preprocess_data():\n",
    "    data = 'CaseStudy_training_data.xlsx'\n",
    "    df = pd.read_excel(data, sheet_name='Model_data')\n",
    "    \n",
    "    # Handle missing values and duplicates\n",
    "    df_cleaned = df.dropna()\n",
    "    df_cleaned = df_cleaned.drop_duplicates()\n",
    "    df_cleaned = df_cleaned.drop(['ID'], axis=1)\n",
    "    df_cleaned = df_cleaned.rename(columns={'rx ds': 'rx_ds'})\n",
    "    \n",
    "    # Feature Engineering\n",
    "    df_features = df_cleaned.copy()\n",
    "    df_features['rx_ds_bucket'] = pd.qcut(df_cleaned['rx_ds'], q=4, labels=['Q1', 'Q2', 'Q3', 'Q4'])\n",
    "    \n",
    "    # One-Hot Encoding\n",
    "    df_one_hot = pd.get_dummies(df_features['rx_ds_bucket'], prefix='rx_ds_bucket')\n",
    "    df_features = pd.concat([df_features, df_one_hot], axis=1)\n",
    "    df_features.drop(['rx_ds_bucket'], axis=1, inplace=True)\n",
    "    \n",
    "    # Splitting the data\n",
    "    X = df_features.drop(['OD', 'rx_ds'], axis=1)\n",
    "    y = df_features['OD']\n",
    "    X_train, X_test, y_train, y_test = train_test_split(X, y, test_size=0.2, random_state=42)\n",
    "    \n",
    "    return X_train, X_test, y_train, y_test\n",
    "\n",
    "def train_decision_tree(X_train, y_train, X_test, hyperparameters):\n",
    "    model = DecisionTreeClassifier(**hyperparameters)\n",
    "    model.fit(X_train, y_train)\n",
    "    y_pred = model.predict(X_test)\n",
    "    return model, y_pred\n",
    "\n",
    "def calculate_performance_metrics(y_test, y_pred, model, X_test):\n",
    "    metrics = {}\n",
    "    metrics[\"accuracy\"] = accuracy_score(y_test, y_pred)\n",
    "    metrics[\"precision\"] = precision_score(y_test, y_pred)\n",
    "    metrics[\"recall\"] = recall_score(y_test, y_pred)\n",
    "    metrics[\"f1\"] = f1_score(y_test, y_pred)\n",
    "    metrics[\"roc_auc\"] = roc_auc_score(y_test, model.predict_proba(X_test)[:, 1])\n",
    "    \n",
    "    conf_matrix = confusion_matrix(y_test, y_pred)\n",
    "    TN, FP, FN, TP = conf_matrix.ravel()\n",
    "    \n",
    "    metrics[\"ppv\"] = TP / (TP + FP)\n",
    "    metrics[\"npv\"] = TN / (TN + FN)\n",
    "    metrics[\"specificity\"] = TN / (TN + FP)\n",
    "    \n",
    "    return metrics\n",
    "\n",
    "def log_to_wandb(metrics, model, X_train, X_test, y_train, y_test):\n",
    "    # Log metrics\n",
    "    wandb.log(metrics)\n",
    "    \n",
    "    # Save and log the model\n",
    "    os.makedirs('models', exist_ok=True)\n",
    "    model_path = \"models/tree_model.pkl\"\n",
    "    with open(model_path, \"wb\") as f:\n",
    "        pickle.dump(model, f)\n",
    "    \n",
    "    artifact = wandb.Artifact(\"tree_model\", type=\"model\")\n",
    "    artifact.add_file(model_path)\n",
    "    wandb.log_artifact(artifact)\n",
    "    \n",
    "    # Save and log the data\n",
    "    os.makedirs('data', exist_ok=True)\n",
    "    datasets = {\"training_data\": X_train, \"training_labels\": y_train, \"test_data\": X_test, \"test_labels\": y_test}\n",
    "    \n",
    "    for name, df in datasets.items():\n",
    "        df.to_csv(f'data/{name}.csv', index=False)\n",
    "    \n",
    "    artifact = wandb.Artifact('train_val_sets', type='dataset', metadata={\"Source\": \"CaseStudy_training_data.xlsx\"})\n",
    "    artifact.add_dir('data')\n",
    "    wandb.log_artifact(artifact)\n",
    "    \n",
    "    # Plot plots to Weights & Biases\n",
    "    label_names = [\"Not-OD\", \"OD\"]\n",
    "    y_pred_proba = model.predict_proba(X_test)\n",
    "    \n",
    "    wandb.sklearn.plot_class_proportions(y_train, y_test, label_names)\n",
    "    wandb.sklearn.plot_summary_metrics(model, X_train, y_train, X_test, y_test)\n",
    "    wandb.sklearn.plot_roc(y_test, y_pred_proba, labels=label_names)\n",
    "    wandb.sklearn.plot_precision_recall(y_test, y_pred_proba, labels=label_names)\n",
    "    wandb.sklearn.plot_confusion_matrix(y_test, y_pred_proba.argmax(axis=1), labels=label_names)\n"
   ]
  },
  {
   "cell_type": "code",
   "execution_count": 3,
   "id": "c3363b26",
   "metadata": {},
   "outputs": [],
   "source": [
    "# Random Search Hyperparameters for Decision Tree\n",
    "sweep_config = {\n",
    "    'method': 'random',\n",
    "    'metric': {\n",
    "      'name': 'recall',  # you might want to adjust this based on your specific use case\n",
    "      'goal': 'maximize'\n",
    "    },\n",
    "    'parameters': {\n",
    "        'criterion': {\n",
    "            'values': ['gini', 'entropy']\n",
    "        },\n",
    "        'splitter': {\n",
    "            'values': ['best', 'random']\n",
    "        },\n",
    "        'max_depth': {\n",
    "            'values': [None, 10, 20, 30, 40, 50]  # you might want to adjust these values\n",
    "        },\n",
    "        'min_samples_split': {\n",
    "            'values': [2, 5, 10]  # you might want to adjust these values\n",
    "        },\n",
    "        'min_samples_leaf': {\n",
    "            'values': [1, 2, 4]  # you might want to adjust these values\n",
    "        },\n",
    "        'max_features': {\n",
    "            'values': [None, 'sqrt', 'log2']  # you might want to adjust these values\n",
    "        },\n",
    "        'max_leaf_nodes': {\n",
    "            'values': [None, 10, 20, 30, 40, 50]  # you might want to adjust these values\n",
    "        },\n",
    "        'min_impurity_decrease': {\n",
    "            'values': [0.0, 0.1, 0.2]  # you might want to adjust these values\n",
    "        },\n",
    "        'min_weight_fraction_leaf': {\n",
    "            'values': [0.0, 0.1, 0.2]  # you might want to adjust these values\n",
    "        },\n",
    "        'class_weight': {\n",
    "            'values': ['balanced', None]\n",
    "        },\n",
    "        'ccp_alpha': {\n",
    "            'values': [0.0, 0.1, 0.2]  # you might want to adjust these values\n",
    "        }\n",
    "    }\n",
    "}\n"
   ]
  },
  {
   "cell_type": "code",
   "execution_count": 6,
   "id": "0fd6ac01",
   "metadata": {},
   "outputs": [],
   "source": [
    "def sweep():\n",
    "    # Initialize wandb\n",
    "    run = wandb.init()\n",
    "    \n",
    "    # Load and preprocess data\n",
    "    X_train, X_test, y_train, y_test = load_and_preprocess_data()\n",
    "    \n",
    "    # Get hyperparameters from wandb\n",
    "    hyperparameters = run.config\n",
    "    \n",
    "    # Train the logistic regression model\n",
    "    model, y_pred = train_decision_tree(\n",
    "        X_train, y_train, X_test, hyperparameters)\n",
    "    \n",
    "    # Calculate performance metrics\n",
    "    metrics = calculate_performance_metrics(y_test, y_pred, model, X_test)\n",
    "    \n",
    "    # Log to wandb\n",
    "    log_to_wandb(metrics, model, X_train, X_test, y_train, y_test)\n",
    "    \n",
    "    # Finish the wandb run\n",
    "    run.finish()\n"
   ]
  },
  {
   "cell_type": "code",
   "execution_count": 7,
   "id": "8084d787",
   "metadata": {},
   "outputs": [
    {
     "name": "stdout",
     "output_type": "stream",
     "text": [
      "Create sweep with ID: tknx65iv\n",
      "Sweep URL: https://wandb.ai/idiazl/tree-sweep/sweeps/tknx65iv\n"
     ]
    },
    {
     "name": "stderr",
     "output_type": "stream",
     "text": [
      "\u001b[34m\u001b[1mwandb\u001b[0m: Agent Starting Run: oe3rsuwh with config:\n",
      "\u001b[34m\u001b[1mwandb\u001b[0m: \tccp_alpha: 0.1\n",
      "\u001b[34m\u001b[1mwandb\u001b[0m: \tclass_weight: None\n",
      "\u001b[34m\u001b[1mwandb\u001b[0m: \tcriterion: entropy\n",
      "\u001b[34m\u001b[1mwandb\u001b[0m: \tmax_depth: 40\n",
      "\u001b[34m\u001b[1mwandb\u001b[0m: \tmax_features: None\n",
      "\u001b[34m\u001b[1mwandb\u001b[0m: \tmax_leaf_nodes: 50\n",
      "\u001b[34m\u001b[1mwandb\u001b[0m: \tmin_impurity_decrease: 0\n",
      "\u001b[34m\u001b[1mwandb\u001b[0m: \tmin_samples_leaf: 2\n",
      "\u001b[34m\u001b[1mwandb\u001b[0m: \tmin_samples_split: 5\n",
      "\u001b[34m\u001b[1mwandb\u001b[0m: \tmin_weight_fraction_leaf: 0.2\n",
      "\u001b[34m\u001b[1mwandb\u001b[0m: \tsplitter: random\n"
     ]
    },
    {
     "data": {
      "text/html": [
       "Tracking run with wandb version 0.18.7"
      ],
      "text/plain": [
       "<IPython.core.display.HTML object>"
      ]
     },
     "metadata": {},
     "output_type": "display_data"
    },
    {
     "data": {
      "text/html": [
       "Run data is saved locally in <code>/workspaces/wandb_demo/wandb/run-20241129_071822-oe3rsuwh</code>"
      ],
      "text/plain": [
       "<IPython.core.display.HTML object>"
      ]
     },
     "metadata": {},
     "output_type": "display_data"
    },
    {
     "data": {
      "text/html": [
       "Syncing run <strong><a href='https://wandb.ai/idiazl/tree-sweep/runs/oe3rsuwh' target=\"_blank\">solar-sweep-1</a></strong> to <a href='https://wandb.ai/idiazl/tree-sweep' target=\"_blank\">Weights & Biases</a> (<a href='https://wandb.me/developer-guide' target=\"_blank\">docs</a>)<br/>Sweep page: <a href='https://wandb.ai/idiazl/tree-sweep/sweeps/tknx65iv' target=\"_blank\">https://wandb.ai/idiazl/tree-sweep/sweeps/tknx65iv</a>"
      ],
      "text/plain": [
       "<IPython.core.display.HTML object>"
      ]
     },
     "metadata": {},
     "output_type": "display_data"
    },
    {
     "data": {
      "text/html": [
       " View project at <a href='https://wandb.ai/idiazl/tree-sweep' target=\"_blank\">https://wandb.ai/idiazl/tree-sweep</a>"
      ],
      "text/plain": [
       "<IPython.core.display.HTML object>"
      ]
     },
     "metadata": {},
     "output_type": "display_data"
    },
    {
     "data": {
      "text/html": [
       " View sweep at <a href='https://wandb.ai/idiazl/tree-sweep/sweeps/tknx65iv' target=\"_blank\">https://wandb.ai/idiazl/tree-sweep/sweeps/tknx65iv</a>"
      ],
      "text/plain": [
       "<IPython.core.display.HTML object>"
      ]
     },
     "metadata": {},
     "output_type": "display_data"
    },
    {
     "data": {
      "text/html": [
       " View run at <a href='https://wandb.ai/idiazl/tree-sweep/runs/oe3rsuwh' target=\"_blank\">https://wandb.ai/idiazl/tree-sweep/runs/oe3rsuwh</a>"
      ],
      "text/plain": [
       "<IPython.core.display.HTML object>"
      ]
     },
     "metadata": {},
     "output_type": "display_data"
    },
    {
     "name": "stderr",
     "output_type": "stream",
     "text": [
      "/opt/conda/envs/hc_opioid/lib/python3.9/site-packages/sklearn/metrics/_classification.py:1471: UndefinedMetricWarning: Precision is ill-defined and being set to 0.0 due to no predicted samples. Use `zero_division` parameter to control this behavior.\n",
      "  _warn_prf(average, modifier, msg_start, len(result))\n",
      "/tmp/ipykernel_22211/119921925.py:44: RuntimeWarning: invalid value encountered in long_scalars\n",
      "  metrics[\"ppv\"] = TP / (TP + FP)\n",
      "\u001b[34m\u001b[1mwandb\u001b[0m: Adding directory to artifact (./data)... Done. 0.0s\n",
      "/opt/conda/envs/hc_opioid/lib/python3.9/site-packages/sklearn/base.py:465: UserWarning: X does not have valid feature names, but DecisionTreeClassifier was fitted with feature names\n",
      "  warnings.warn(\n",
      "/opt/conda/envs/hc_opioid/lib/python3.9/site-packages/sklearn/metrics/_classification.py:1471: UndefinedMetricWarning: Precision is ill-defined and being set to 0.0 in labels with no predicted samples. Use `zero_division` parameter to control this behavior.\n",
      "  _warn_prf(average, modifier, msg_start, len(result))\n"
     ]
    },
    {
     "data": {
      "application/vnd.jupyter.widget-view+json": {
       "model_id": "6049765771114a66bef6d20a623214e9",
       "version_major": 2,
       "version_minor": 0
      },
      "text/plain": [
       "VBox(children=(Label(value='0.021 MB of 0.021 MB uploaded\\r'), FloatProgress(value=1.0, max=1.0)))"
      ]
     },
     "metadata": {},
     "output_type": "display_data"
    },
    {
     "data": {
      "text/html": [
       "\n",
       "    <style>\n",
       "        .wandb-row {\n",
       "            display: flex;\n",
       "            flex-direction: row;\n",
       "            flex-wrap: wrap;\n",
       "            justify-content: flex-start;\n",
       "            width: 100%;\n",
       "        }\n",
       "        .wandb-col {\n",
       "            display: flex;\n",
       "            flex-direction: column;\n",
       "            flex-basis: 100%;\n",
       "            flex: 1;\n",
       "            padding: 10px;\n",
       "        }\n",
       "    </style>\n",
       "<div class=\"wandb-row\"><div class=\"wandb-col\"><h3>Run history:</h3><br/><table class=\"wandb\"><tr><td>accuracy</td><td>▁</td></tr><tr><td>f1</td><td>▁</td></tr><tr><td>npv</td><td>▁</td></tr><tr><td>precision</td><td>▁</td></tr><tr><td>recall</td><td>▁</td></tr><tr><td>roc_auc</td><td>▁</td></tr><tr><td>specificity</td><td>▁</td></tr></table><br/></div><div class=\"wandb-col\"><h3>Run summary:</h3><br/><table class=\"wandb\"><tr><td>accuracy</td><td>0.705</td></tr><tr><td>f1</td><td>0</td></tr><tr><td>npv</td><td>0.705</td></tr><tr><td>ppv</td><td>nan</td></tr><tr><td>precision</td><td>0</td></tr><tr><td>recall</td><td>0</td></tr><tr><td>roc_auc</td><td>0.71589</td></tr><tr><td>specificity</td><td>1</td></tr></table><br/></div></div>"
      ],
      "text/plain": [
       "<IPython.core.display.HTML object>"
      ]
     },
     "metadata": {},
     "output_type": "display_data"
    },
    {
     "data": {
      "text/html": [
       " View run <strong style=\"color:#cdcd00\">solar-sweep-1</strong> at: <a href='https://wandb.ai/idiazl/tree-sweep/runs/oe3rsuwh' target=\"_blank\">https://wandb.ai/idiazl/tree-sweep/runs/oe3rsuwh</a><br/> View project at: <a href='https://wandb.ai/idiazl/tree-sweep' target=\"_blank\">https://wandb.ai/idiazl/tree-sweep</a><br/>Synced 5 W&B file(s), 0 media file(s), 14 artifact file(s) and 5 other file(s)"
      ],
      "text/plain": [
       "<IPython.core.display.HTML object>"
      ]
     },
     "metadata": {},
     "output_type": "display_data"
    },
    {
     "data": {
      "text/html": [
       "Find logs at: <code>./wandb/run-20241129_071822-oe3rsuwh/logs</code>"
      ],
      "text/plain": [
       "<IPython.core.display.HTML object>"
      ]
     },
     "metadata": {},
     "output_type": "display_data"
    },
    {
     "name": "stderr",
     "output_type": "stream",
     "text": [
      "\u001b[34m\u001b[1mwandb\u001b[0m: Agent Starting Run: mggmjjz0 with config:\n",
      "\u001b[34m\u001b[1mwandb\u001b[0m: \tccp_alpha: 0\n",
      "\u001b[34m\u001b[1mwandb\u001b[0m: \tclass_weight: None\n",
      "\u001b[34m\u001b[1mwandb\u001b[0m: \tcriterion: entropy\n",
      "\u001b[34m\u001b[1mwandb\u001b[0m: \tmax_depth: 20\n",
      "\u001b[34m\u001b[1mwandb\u001b[0m: \tmax_features: log2\n",
      "\u001b[34m\u001b[1mwandb\u001b[0m: \tmax_leaf_nodes: 30\n",
      "\u001b[34m\u001b[1mwandb\u001b[0m: \tmin_impurity_decrease: 0\n",
      "\u001b[34m\u001b[1mwandb\u001b[0m: \tmin_samples_leaf: 2\n",
      "\u001b[34m\u001b[1mwandb\u001b[0m: \tmin_samples_split: 5\n",
      "\u001b[34m\u001b[1mwandb\u001b[0m: \tmin_weight_fraction_leaf: 0.2\n",
      "\u001b[34m\u001b[1mwandb\u001b[0m: \tsplitter: random\n"
     ]
    },
    {
     "data": {
      "text/html": [
       "Tracking run with wandb version 0.18.7"
      ],
      "text/plain": [
       "<IPython.core.display.HTML object>"
      ]
     },
     "metadata": {},
     "output_type": "display_data"
    },
    {
     "data": {
      "text/html": [
       "Run data is saved locally in <code>/workspaces/wandb_demo/wandb/run-20241129_071832-mggmjjz0</code>"
      ],
      "text/plain": [
       "<IPython.core.display.HTML object>"
      ]
     },
     "metadata": {},
     "output_type": "display_data"
    },
    {
     "data": {
      "text/html": [
       "Syncing run <strong><a href='https://wandb.ai/idiazl/tree-sweep/runs/mggmjjz0' target=\"_blank\">fluent-sweep-2</a></strong> to <a href='https://wandb.ai/idiazl/tree-sweep' target=\"_blank\">Weights & Biases</a> (<a href='https://wandb.me/developer-guide' target=\"_blank\">docs</a>)<br/>Sweep page: <a href='https://wandb.ai/idiazl/tree-sweep/sweeps/tknx65iv' target=\"_blank\">https://wandb.ai/idiazl/tree-sweep/sweeps/tknx65iv</a>"
      ],
      "text/plain": [
       "<IPython.core.display.HTML object>"
      ]
     },
     "metadata": {},
     "output_type": "display_data"
    },
    {
     "data": {
      "text/html": [
       " View project at <a href='https://wandb.ai/idiazl/tree-sweep' target=\"_blank\">https://wandb.ai/idiazl/tree-sweep</a>"
      ],
      "text/plain": [
       "<IPython.core.display.HTML object>"
      ]
     },
     "metadata": {},
     "output_type": "display_data"
    },
    {
     "data": {
      "text/html": [
       " View sweep at <a href='https://wandb.ai/idiazl/tree-sweep/sweeps/tknx65iv' target=\"_blank\">https://wandb.ai/idiazl/tree-sweep/sweeps/tknx65iv</a>"
      ],
      "text/plain": [
       "<IPython.core.display.HTML object>"
      ]
     },
     "metadata": {},
     "output_type": "display_data"
    },
    {
     "data": {
      "text/html": [
       " View run at <a href='https://wandb.ai/idiazl/tree-sweep/runs/mggmjjz0' target=\"_blank\">https://wandb.ai/idiazl/tree-sweep/runs/mggmjjz0</a>"
      ],
      "text/plain": [
       "<IPython.core.display.HTML object>"
      ]
     },
     "metadata": {},
     "output_type": "display_data"
    },
    {
     "name": "stderr",
     "output_type": "stream",
     "text": [
      "/opt/conda/envs/hc_opioid/lib/python3.9/site-packages/sklearn/metrics/_classification.py:1471: UndefinedMetricWarning: Precision is ill-defined and being set to 0.0 due to no predicted samples. Use `zero_division` parameter to control this behavior.\n",
      "  _warn_prf(average, modifier, msg_start, len(result))\n",
      "/tmp/ipykernel_22211/119921925.py:44: RuntimeWarning: invalid value encountered in long_scalars\n",
      "  metrics[\"ppv\"] = TP / (TP + FP)\n",
      "\u001b[34m\u001b[1mwandb\u001b[0m: Adding directory to artifact (./data)... Done. 0.0s\n",
      "/opt/conda/envs/hc_opioid/lib/python3.9/site-packages/sklearn/base.py:465: UserWarning: X does not have valid feature names, but DecisionTreeClassifier was fitted with feature names\n",
      "  warnings.warn(\n",
      "/opt/conda/envs/hc_opioid/lib/python3.9/site-packages/sklearn/metrics/_classification.py:1471: UndefinedMetricWarning: Precision is ill-defined and being set to 0.0 in labels with no predicted samples. Use `zero_division` parameter to control this behavior.\n",
      "  _warn_prf(average, modifier, msg_start, len(result))\n"
     ]
    },
    {
     "data": {
      "application/vnd.jupyter.widget-view+json": {
       "model_id": "9143e503e80d4a699fd36ee1d51f62ad",
       "version_major": 2,
       "version_minor": 0
      },
      "text/plain": [
       "VBox(children=(Label(value='0.022 MB of 0.022 MB uploaded\\r'), FloatProgress(value=1.0, max=1.0)))"
      ]
     },
     "metadata": {},
     "output_type": "display_data"
    },
    {
     "data": {
      "text/html": [
       "\n",
       "    <style>\n",
       "        .wandb-row {\n",
       "            display: flex;\n",
       "            flex-direction: row;\n",
       "            flex-wrap: wrap;\n",
       "            justify-content: flex-start;\n",
       "            width: 100%;\n",
       "        }\n",
       "        .wandb-col {\n",
       "            display: flex;\n",
       "            flex-direction: column;\n",
       "            flex-basis: 100%;\n",
       "            flex: 1;\n",
       "            padding: 10px;\n",
       "        }\n",
       "    </style>\n",
       "<div class=\"wandb-row\"><div class=\"wandb-col\"><h3>Run history:</h3><br/><table class=\"wandb\"><tr><td>accuracy</td><td>▁</td></tr><tr><td>f1</td><td>▁</td></tr><tr><td>npv</td><td>▁</td></tr><tr><td>precision</td><td>▁</td></tr><tr><td>recall</td><td>▁</td></tr><tr><td>roc_auc</td><td>▁</td></tr><tr><td>specificity</td><td>▁</td></tr></table><br/></div><div class=\"wandb-col\"><h3>Run summary:</h3><br/><table class=\"wandb\"><tr><td>accuracy</td><td>0.705</td></tr><tr><td>f1</td><td>0</td></tr><tr><td>npv</td><td>0.705</td></tr><tr><td>ppv</td><td>nan</td></tr><tr><td>precision</td><td>0</td></tr><tr><td>recall</td><td>0</td></tr><tr><td>roc_auc</td><td>0.54934</td></tr><tr><td>specificity</td><td>1</td></tr></table><br/></div></div>"
      ],
      "text/plain": [
       "<IPython.core.display.HTML object>"
      ]
     },
     "metadata": {},
     "output_type": "display_data"
    },
    {
     "data": {
      "text/html": [
       " View run <strong style=\"color:#cdcd00\">fluent-sweep-2</strong> at: <a href='https://wandb.ai/idiazl/tree-sweep/runs/mggmjjz0' target=\"_blank\">https://wandb.ai/idiazl/tree-sweep/runs/mggmjjz0</a><br/> View project at: <a href='https://wandb.ai/idiazl/tree-sweep' target=\"_blank\">https://wandb.ai/idiazl/tree-sweep</a><br/>Synced 5 W&B file(s), 0 media file(s), 14 artifact file(s) and 5 other file(s)"
      ],
      "text/plain": [
       "<IPython.core.display.HTML object>"
      ]
     },
     "metadata": {},
     "output_type": "display_data"
    },
    {
     "data": {
      "text/html": [
       "Find logs at: <code>./wandb/run-20241129_071832-mggmjjz0/logs</code>"
      ],
      "text/plain": [
       "<IPython.core.display.HTML object>"
      ]
     },
     "metadata": {},
     "output_type": "display_data"
    },
    {
     "name": "stderr",
     "output_type": "stream",
     "text": [
      "\u001b[34m\u001b[1mwandb\u001b[0m: Agent Starting Run: ibxx6hzv with config:\n",
      "\u001b[34m\u001b[1mwandb\u001b[0m: \tccp_alpha: 0.2\n",
      "\u001b[34m\u001b[1mwandb\u001b[0m: \tclass_weight: None\n",
      "\u001b[34m\u001b[1mwandb\u001b[0m: \tcriterion: gini\n",
      "\u001b[34m\u001b[1mwandb\u001b[0m: \tmax_depth: 50\n",
      "\u001b[34m\u001b[1mwandb\u001b[0m: \tmax_features: log2\n",
      "\u001b[34m\u001b[1mwandb\u001b[0m: \tmax_leaf_nodes: 40\n",
      "\u001b[34m\u001b[1mwandb\u001b[0m: \tmin_impurity_decrease: 0\n",
      "\u001b[34m\u001b[1mwandb\u001b[0m: \tmin_samples_leaf: 1\n",
      "\u001b[34m\u001b[1mwandb\u001b[0m: \tmin_samples_split: 10\n",
      "\u001b[34m\u001b[1mwandb\u001b[0m: \tmin_weight_fraction_leaf: 0.1\n",
      "\u001b[34m\u001b[1mwandb\u001b[0m: \tsplitter: random\n"
     ]
    },
    {
     "data": {
      "text/html": [
       "Tracking run with wandb version 0.18.7"
      ],
      "text/plain": [
       "<IPython.core.display.HTML object>"
      ]
     },
     "metadata": {},
     "output_type": "display_data"
    },
    {
     "data": {
      "text/html": [
       "Run data is saved locally in <code>/workspaces/wandb_demo/wandb/run-20241129_071843-ibxx6hzv</code>"
      ],
      "text/plain": [
       "<IPython.core.display.HTML object>"
      ]
     },
     "metadata": {},
     "output_type": "display_data"
    },
    {
     "data": {
      "text/html": [
       "Syncing run <strong><a href='https://wandb.ai/idiazl/tree-sweep/runs/ibxx6hzv' target=\"_blank\">charmed-sweep-3</a></strong> to <a href='https://wandb.ai/idiazl/tree-sweep' target=\"_blank\">Weights & Biases</a> (<a href='https://wandb.me/developer-guide' target=\"_blank\">docs</a>)<br/>Sweep page: <a href='https://wandb.ai/idiazl/tree-sweep/sweeps/tknx65iv' target=\"_blank\">https://wandb.ai/idiazl/tree-sweep/sweeps/tknx65iv</a>"
      ],
      "text/plain": [
       "<IPython.core.display.HTML object>"
      ]
     },
     "metadata": {},
     "output_type": "display_data"
    },
    {
     "data": {
      "text/html": [
       " View project at <a href='https://wandb.ai/idiazl/tree-sweep' target=\"_blank\">https://wandb.ai/idiazl/tree-sweep</a>"
      ],
      "text/plain": [
       "<IPython.core.display.HTML object>"
      ]
     },
     "metadata": {},
     "output_type": "display_data"
    },
    {
     "data": {
      "text/html": [
       " View sweep at <a href='https://wandb.ai/idiazl/tree-sweep/sweeps/tknx65iv' target=\"_blank\">https://wandb.ai/idiazl/tree-sweep/sweeps/tknx65iv</a>"
      ],
      "text/plain": [
       "<IPython.core.display.HTML object>"
      ]
     },
     "metadata": {},
     "output_type": "display_data"
    },
    {
     "data": {
      "text/html": [
       " View run at <a href='https://wandb.ai/idiazl/tree-sweep/runs/ibxx6hzv' target=\"_blank\">https://wandb.ai/idiazl/tree-sweep/runs/ibxx6hzv</a>"
      ],
      "text/plain": [
       "<IPython.core.display.HTML object>"
      ]
     },
     "metadata": {},
     "output_type": "display_data"
    },
    {
     "name": "stderr",
     "output_type": "stream",
     "text": [
      "/opt/conda/envs/hc_opioid/lib/python3.9/site-packages/sklearn/metrics/_classification.py:1471: UndefinedMetricWarning: Precision is ill-defined and being set to 0.0 due to no predicted samples. Use `zero_division` parameter to control this behavior.\n",
      "  _warn_prf(average, modifier, msg_start, len(result))\n",
      "/tmp/ipykernel_22211/119921925.py:44: RuntimeWarning: invalid value encountered in long_scalars\n",
      "  metrics[\"ppv\"] = TP / (TP + FP)\n",
      "\u001b[34m\u001b[1mwandb\u001b[0m: Adding directory to artifact (./data)... Done. 0.0s\n",
      "/opt/conda/envs/hc_opioid/lib/python3.9/site-packages/sklearn/base.py:465: UserWarning: X does not have valid feature names, but DecisionTreeClassifier was fitted with feature names\n",
      "  warnings.warn(\n",
      "/opt/conda/envs/hc_opioid/lib/python3.9/site-packages/sklearn/metrics/_classification.py:1471: UndefinedMetricWarning: Precision is ill-defined and being set to 0.0 in labels with no predicted samples. Use `zero_division` parameter to control this behavior.\n",
      "  _warn_prf(average, modifier, msg_start, len(result))\n"
     ]
    },
    {
     "data": {
      "application/vnd.jupyter.widget-view+json": {
       "model_id": "2bdb2c24e05243909abb20179421b097",
       "version_major": 2,
       "version_minor": 0
      },
      "text/plain": [
       "VBox(children=(Label(value='0.021 MB of 0.021 MB uploaded\\r'), FloatProgress(value=1.0, max=1.0)))"
      ]
     },
     "metadata": {},
     "output_type": "display_data"
    },
    {
     "data": {
      "text/html": [
       "\n",
       "    <style>\n",
       "        .wandb-row {\n",
       "            display: flex;\n",
       "            flex-direction: row;\n",
       "            flex-wrap: wrap;\n",
       "            justify-content: flex-start;\n",
       "            width: 100%;\n",
       "        }\n",
       "        .wandb-col {\n",
       "            display: flex;\n",
       "            flex-direction: column;\n",
       "            flex-basis: 100%;\n",
       "            flex: 1;\n",
       "            padding: 10px;\n",
       "        }\n",
       "    </style>\n",
       "<div class=\"wandb-row\"><div class=\"wandb-col\"><h3>Run history:</h3><br/><table class=\"wandb\"><tr><td>accuracy</td><td>▁</td></tr><tr><td>f1</td><td>▁</td></tr><tr><td>npv</td><td>▁</td></tr><tr><td>precision</td><td>▁</td></tr><tr><td>recall</td><td>▁</td></tr><tr><td>roc_auc</td><td>▁</td></tr><tr><td>specificity</td><td>▁</td></tr></table><br/></div><div class=\"wandb-col\"><h3>Run summary:</h3><br/><table class=\"wandb\"><tr><td>accuracy</td><td>0.705</td></tr><tr><td>f1</td><td>0</td></tr><tr><td>npv</td><td>0.705</td></tr><tr><td>ppv</td><td>nan</td></tr><tr><td>precision</td><td>0</td></tr><tr><td>recall</td><td>0</td></tr><tr><td>roc_auc</td><td>0.5</td></tr><tr><td>specificity</td><td>1</td></tr></table><br/></div></div>"
      ],
      "text/plain": [
       "<IPython.core.display.HTML object>"
      ]
     },
     "metadata": {},
     "output_type": "display_data"
    },
    {
     "data": {
      "text/html": [
       " View run <strong style=\"color:#cdcd00\">charmed-sweep-3</strong> at: <a href='https://wandb.ai/idiazl/tree-sweep/runs/ibxx6hzv' target=\"_blank\">https://wandb.ai/idiazl/tree-sweep/runs/ibxx6hzv</a><br/> View project at: <a href='https://wandb.ai/idiazl/tree-sweep' target=\"_blank\">https://wandb.ai/idiazl/tree-sweep</a><br/>Synced 5 W&B file(s), 0 media file(s), 12 artifact file(s) and 5 other file(s)"
      ],
      "text/plain": [
       "<IPython.core.display.HTML object>"
      ]
     },
     "metadata": {},
     "output_type": "display_data"
    },
    {
     "data": {
      "text/html": [
       "Find logs at: <code>./wandb/run-20241129_071843-ibxx6hzv/logs</code>"
      ],
      "text/plain": [
       "<IPython.core.display.HTML object>"
      ]
     },
     "metadata": {},
     "output_type": "display_data"
    },
    {
     "name": "stderr",
     "output_type": "stream",
     "text": [
      "\u001b[34m\u001b[1mwandb\u001b[0m: Agent Starting Run: 6oo7n81o with config:\n",
      "\u001b[34m\u001b[1mwandb\u001b[0m: \tccp_alpha: 0.1\n",
      "\u001b[34m\u001b[1mwandb\u001b[0m: \tclass_weight: None\n",
      "\u001b[34m\u001b[1mwandb\u001b[0m: \tcriterion: gini\n",
      "\u001b[34m\u001b[1mwandb\u001b[0m: \tmax_depth: None\n",
      "\u001b[34m\u001b[1mwandb\u001b[0m: \tmax_features: log2\n",
      "\u001b[34m\u001b[1mwandb\u001b[0m: \tmax_leaf_nodes: 50\n",
      "\u001b[34m\u001b[1mwandb\u001b[0m: \tmin_impurity_decrease: 0.1\n",
      "\u001b[34m\u001b[1mwandb\u001b[0m: \tmin_samples_leaf: 1\n",
      "\u001b[34m\u001b[1mwandb\u001b[0m: \tmin_samples_split: 10\n",
      "\u001b[34m\u001b[1mwandb\u001b[0m: \tmin_weight_fraction_leaf: 0.1\n",
      "\u001b[34m\u001b[1mwandb\u001b[0m: \tsplitter: best\n"
     ]
    },
    {
     "data": {
      "text/html": [
       "Tracking run with wandb version 0.18.7"
      ],
      "text/plain": [
       "<IPython.core.display.HTML object>"
      ]
     },
     "metadata": {},
     "output_type": "display_data"
    },
    {
     "data": {
      "text/html": [
       "Run data is saved locally in <code>/workspaces/wandb_demo/wandb/run-20241129_071853-6oo7n81o</code>"
      ],
      "text/plain": [
       "<IPython.core.display.HTML object>"
      ]
     },
     "metadata": {},
     "output_type": "display_data"
    },
    {
     "data": {
      "text/html": [
       "Syncing run <strong><a href='https://wandb.ai/idiazl/tree-sweep/runs/6oo7n81o' target=\"_blank\">ethereal-sweep-4</a></strong> to <a href='https://wandb.ai/idiazl/tree-sweep' target=\"_blank\">Weights & Biases</a> (<a href='https://wandb.me/developer-guide' target=\"_blank\">docs</a>)<br/>Sweep page: <a href='https://wandb.ai/idiazl/tree-sweep/sweeps/tknx65iv' target=\"_blank\">https://wandb.ai/idiazl/tree-sweep/sweeps/tknx65iv</a>"
      ],
      "text/plain": [
       "<IPython.core.display.HTML object>"
      ]
     },
     "metadata": {},
     "output_type": "display_data"
    },
    {
     "data": {
      "text/html": [
       " View project at <a href='https://wandb.ai/idiazl/tree-sweep' target=\"_blank\">https://wandb.ai/idiazl/tree-sweep</a>"
      ],
      "text/plain": [
       "<IPython.core.display.HTML object>"
      ]
     },
     "metadata": {},
     "output_type": "display_data"
    },
    {
     "data": {
      "text/html": [
       " View sweep at <a href='https://wandb.ai/idiazl/tree-sweep/sweeps/tknx65iv' target=\"_blank\">https://wandb.ai/idiazl/tree-sweep/sweeps/tknx65iv</a>"
      ],
      "text/plain": [
       "<IPython.core.display.HTML object>"
      ]
     },
     "metadata": {},
     "output_type": "display_data"
    },
    {
     "data": {
      "text/html": [
       " View run at <a href='https://wandb.ai/idiazl/tree-sweep/runs/6oo7n81o' target=\"_blank\">https://wandb.ai/idiazl/tree-sweep/runs/6oo7n81o</a>"
      ],
      "text/plain": [
       "<IPython.core.display.HTML object>"
      ]
     },
     "metadata": {},
     "output_type": "display_data"
    },
    {
     "name": "stderr",
     "output_type": "stream",
     "text": [
      "/opt/conda/envs/hc_opioid/lib/python3.9/site-packages/sklearn/metrics/_classification.py:1471: UndefinedMetricWarning: Precision is ill-defined and being set to 0.0 due to no predicted samples. Use `zero_division` parameter to control this behavior.\n",
      "  _warn_prf(average, modifier, msg_start, len(result))\n",
      "/tmp/ipykernel_22211/119921925.py:44: RuntimeWarning: invalid value encountered in long_scalars\n",
      "  metrics[\"ppv\"] = TP / (TP + FP)\n",
      "\u001b[34m\u001b[1mwandb\u001b[0m: Adding directory to artifact (./data)... Done. 0.0s\n",
      "/opt/conda/envs/hc_opioid/lib/python3.9/site-packages/sklearn/base.py:465: UserWarning: X does not have valid feature names, but DecisionTreeClassifier was fitted with feature names\n",
      "  warnings.warn(\n",
      "/opt/conda/envs/hc_opioid/lib/python3.9/site-packages/sklearn/metrics/_classification.py:1471: UndefinedMetricWarning: Precision is ill-defined and being set to 0.0 in labels with no predicted samples. Use `zero_division` parameter to control this behavior.\n",
      "  _warn_prf(average, modifier, msg_start, len(result))\n"
     ]
    },
    {
     "data": {
      "application/vnd.jupyter.widget-view+json": {
       "model_id": "040baae5899844d6a6e6f4ffda8863cc",
       "version_major": 2,
       "version_minor": 0
      },
      "text/plain": [
       "VBox(children=(Label(value='0.021 MB of 0.021 MB uploaded\\r'), FloatProgress(value=1.0, max=1.0)))"
      ]
     },
     "metadata": {},
     "output_type": "display_data"
    },
    {
     "data": {
      "text/html": [
       "\n",
       "    <style>\n",
       "        .wandb-row {\n",
       "            display: flex;\n",
       "            flex-direction: row;\n",
       "            flex-wrap: wrap;\n",
       "            justify-content: flex-start;\n",
       "            width: 100%;\n",
       "        }\n",
       "        .wandb-col {\n",
       "            display: flex;\n",
       "            flex-direction: column;\n",
       "            flex-basis: 100%;\n",
       "            flex: 1;\n",
       "            padding: 10px;\n",
       "        }\n",
       "    </style>\n",
       "<div class=\"wandb-row\"><div class=\"wandb-col\"><h3>Run history:</h3><br/><table class=\"wandb\"><tr><td>accuracy</td><td>▁</td></tr><tr><td>f1</td><td>▁</td></tr><tr><td>npv</td><td>▁</td></tr><tr><td>precision</td><td>▁</td></tr><tr><td>recall</td><td>▁</td></tr><tr><td>roc_auc</td><td>▁</td></tr><tr><td>specificity</td><td>▁</td></tr></table><br/></div><div class=\"wandb-col\"><h3>Run summary:</h3><br/><table class=\"wandb\"><tr><td>accuracy</td><td>0.705</td></tr><tr><td>f1</td><td>0</td></tr><tr><td>npv</td><td>0.705</td></tr><tr><td>ppv</td><td>nan</td></tr><tr><td>precision</td><td>0</td></tr><tr><td>recall</td><td>0</td></tr><tr><td>roc_auc</td><td>0.5</td></tr><tr><td>specificity</td><td>1</td></tr></table><br/></div></div>"
      ],
      "text/plain": [
       "<IPython.core.display.HTML object>"
      ]
     },
     "metadata": {},
     "output_type": "display_data"
    },
    {
     "data": {
      "text/html": [
       " View run <strong style=\"color:#cdcd00\">ethereal-sweep-4</strong> at: <a href='https://wandb.ai/idiazl/tree-sweep/runs/6oo7n81o' target=\"_blank\">https://wandb.ai/idiazl/tree-sweep/runs/6oo7n81o</a><br/> View project at: <a href='https://wandb.ai/idiazl/tree-sweep' target=\"_blank\">https://wandb.ai/idiazl/tree-sweep</a><br/>Synced 5 W&B file(s), 0 media file(s), 14 artifact file(s) and 5 other file(s)"
      ],
      "text/plain": [
       "<IPython.core.display.HTML object>"
      ]
     },
     "metadata": {},
     "output_type": "display_data"
    },
    {
     "data": {
      "text/html": [
       "Find logs at: <code>./wandb/run-20241129_071853-6oo7n81o/logs</code>"
      ],
      "text/plain": [
       "<IPython.core.display.HTML object>"
      ]
     },
     "metadata": {},
     "output_type": "display_data"
    },
    {
     "name": "stderr",
     "output_type": "stream",
     "text": [
      "\u001b[34m\u001b[1mwandb\u001b[0m: Agent Starting Run: qwksee6j with config:\n",
      "\u001b[34m\u001b[1mwandb\u001b[0m: \tccp_alpha: 0.1\n",
      "\u001b[34m\u001b[1mwandb\u001b[0m: \tclass_weight: None\n",
      "\u001b[34m\u001b[1mwandb\u001b[0m: \tcriterion: entropy\n",
      "\u001b[34m\u001b[1mwandb\u001b[0m: \tmax_depth: 10\n",
      "\u001b[34m\u001b[1mwandb\u001b[0m: \tmax_features: log2\n",
      "\u001b[34m\u001b[1mwandb\u001b[0m: \tmax_leaf_nodes: 50\n",
      "\u001b[34m\u001b[1mwandb\u001b[0m: \tmin_impurity_decrease: 0\n",
      "\u001b[34m\u001b[1mwandb\u001b[0m: \tmin_samples_leaf: 2\n",
      "\u001b[34m\u001b[1mwandb\u001b[0m: \tmin_samples_split: 10\n",
      "\u001b[34m\u001b[1mwandb\u001b[0m: \tmin_weight_fraction_leaf: 0\n",
      "\u001b[34m\u001b[1mwandb\u001b[0m: \tsplitter: random\n"
     ]
    },
    {
     "data": {
      "text/html": [
       "Tracking run with wandb version 0.18.7"
      ],
      "text/plain": [
       "<IPython.core.display.HTML object>"
      ]
     },
     "metadata": {},
     "output_type": "display_data"
    },
    {
     "data": {
      "text/html": [
       "Run data is saved locally in <code>/workspaces/wandb_demo/wandb/run-20241129_071903-qwksee6j</code>"
      ],
      "text/plain": [
       "<IPython.core.display.HTML object>"
      ]
     },
     "metadata": {},
     "output_type": "display_data"
    },
    {
     "data": {
      "text/html": [
       "Syncing run <strong><a href='https://wandb.ai/idiazl/tree-sweep/runs/qwksee6j' target=\"_blank\">lemon-sweep-5</a></strong> to <a href='https://wandb.ai/idiazl/tree-sweep' target=\"_blank\">Weights & Biases</a> (<a href='https://wandb.me/developer-guide' target=\"_blank\">docs</a>)<br/>Sweep page: <a href='https://wandb.ai/idiazl/tree-sweep/sweeps/tknx65iv' target=\"_blank\">https://wandb.ai/idiazl/tree-sweep/sweeps/tknx65iv</a>"
      ],
      "text/plain": [
       "<IPython.core.display.HTML object>"
      ]
     },
     "metadata": {},
     "output_type": "display_data"
    },
    {
     "data": {
      "text/html": [
       " View project at <a href='https://wandb.ai/idiazl/tree-sweep' target=\"_blank\">https://wandb.ai/idiazl/tree-sweep</a>"
      ],
      "text/plain": [
       "<IPython.core.display.HTML object>"
      ]
     },
     "metadata": {},
     "output_type": "display_data"
    },
    {
     "data": {
      "text/html": [
       " View sweep at <a href='https://wandb.ai/idiazl/tree-sweep/sweeps/tknx65iv' target=\"_blank\">https://wandb.ai/idiazl/tree-sweep/sweeps/tknx65iv</a>"
      ],
      "text/plain": [
       "<IPython.core.display.HTML object>"
      ]
     },
     "metadata": {},
     "output_type": "display_data"
    },
    {
     "data": {
      "text/html": [
       " View run at <a href='https://wandb.ai/idiazl/tree-sweep/runs/qwksee6j' target=\"_blank\">https://wandb.ai/idiazl/tree-sweep/runs/qwksee6j</a>"
      ],
      "text/plain": [
       "<IPython.core.display.HTML object>"
      ]
     },
     "metadata": {},
     "output_type": "display_data"
    },
    {
     "name": "stderr",
     "output_type": "stream",
     "text": [
      "/opt/conda/envs/hc_opioid/lib/python3.9/site-packages/sklearn/metrics/_classification.py:1471: UndefinedMetricWarning: Precision is ill-defined and being set to 0.0 due to no predicted samples. Use `zero_division` parameter to control this behavior.\n",
      "  _warn_prf(average, modifier, msg_start, len(result))\n",
      "/tmp/ipykernel_22211/119921925.py:44: RuntimeWarning: invalid value encountered in long_scalars\n",
      "  metrics[\"ppv\"] = TP / (TP + FP)\n",
      "\u001b[34m\u001b[1mwandb\u001b[0m: Adding directory to artifact (./data)... Done. 0.0s\n",
      "/opt/conda/envs/hc_opioid/lib/python3.9/site-packages/sklearn/base.py:465: UserWarning: X does not have valid feature names, but DecisionTreeClassifier was fitted with feature names\n",
      "  warnings.warn(\n",
      "/opt/conda/envs/hc_opioid/lib/python3.9/site-packages/sklearn/metrics/_classification.py:1471: UndefinedMetricWarning: Precision is ill-defined and being set to 0.0 in labels with no predicted samples. Use `zero_division` parameter to control this behavior.\n",
      "  _warn_prf(average, modifier, msg_start, len(result))\n"
     ]
    },
    {
     "data": {
      "application/vnd.jupyter.widget-view+json": {
       "model_id": "bd08380e2b024a8cafab86f4a56899ad",
       "version_major": 2,
       "version_minor": 0
      },
      "text/plain": [
       "VBox(children=(Label(value='0.021 MB of 0.021 MB uploaded\\r'), FloatProgress(value=1.0, max=1.0)))"
      ]
     },
     "metadata": {},
     "output_type": "display_data"
    },
    {
     "data": {
      "text/html": [
       "\n",
       "    <style>\n",
       "        .wandb-row {\n",
       "            display: flex;\n",
       "            flex-direction: row;\n",
       "            flex-wrap: wrap;\n",
       "            justify-content: flex-start;\n",
       "            width: 100%;\n",
       "        }\n",
       "        .wandb-col {\n",
       "            display: flex;\n",
       "            flex-direction: column;\n",
       "            flex-basis: 100%;\n",
       "            flex: 1;\n",
       "            padding: 10px;\n",
       "        }\n",
       "    </style>\n",
       "<div class=\"wandb-row\"><div class=\"wandb-col\"><h3>Run history:</h3><br/><table class=\"wandb\"><tr><td>accuracy</td><td>▁</td></tr><tr><td>f1</td><td>▁</td></tr><tr><td>npv</td><td>▁</td></tr><tr><td>precision</td><td>▁</td></tr><tr><td>recall</td><td>▁</td></tr><tr><td>roc_auc</td><td>▁</td></tr><tr><td>specificity</td><td>▁</td></tr></table><br/></div><div class=\"wandb-col\"><h3>Run summary:</h3><br/><table class=\"wandb\"><tr><td>accuracy</td><td>0.705</td></tr><tr><td>f1</td><td>0</td></tr><tr><td>npv</td><td>0.705</td></tr><tr><td>ppv</td><td>nan</td></tr><tr><td>precision</td><td>0</td></tr><tr><td>recall</td><td>0</td></tr><tr><td>roc_auc</td><td>0.5</td></tr><tr><td>specificity</td><td>1</td></tr></table><br/></div></div>"
      ],
      "text/plain": [
       "<IPython.core.display.HTML object>"
      ]
     },
     "metadata": {},
     "output_type": "display_data"
    },
    {
     "data": {
      "text/html": [
       " View run <strong style=\"color:#cdcd00\">lemon-sweep-5</strong> at: <a href='https://wandb.ai/idiazl/tree-sweep/runs/qwksee6j' target=\"_blank\">https://wandb.ai/idiazl/tree-sweep/runs/qwksee6j</a><br/> View project at: <a href='https://wandb.ai/idiazl/tree-sweep' target=\"_blank\">https://wandb.ai/idiazl/tree-sweep</a><br/>Synced 5 W&B file(s), 0 media file(s), 12 artifact file(s) and 5 other file(s)"
      ],
      "text/plain": [
       "<IPython.core.display.HTML object>"
      ]
     },
     "metadata": {},
     "output_type": "display_data"
    },
    {
     "data": {
      "text/html": [
       "Find logs at: <code>./wandb/run-20241129_071903-qwksee6j/logs</code>"
      ],
      "text/plain": [
       "<IPython.core.display.HTML object>"
      ]
     },
     "metadata": {},
     "output_type": "display_data"
    }
   ],
   "source": [
    "os.environ['WANDB_NOTEBOOK_NAME'] = '06_tree_sweep.ipynb' # Failed to detect the name of this notebook...\n",
    "\n",
    "sweep_id = wandb.sweep(sweep=sweep_config, project='tree-sweep')\n",
    "wandb.agent(sweep_id, function=sweep, count=5)  # Adjust 'count' as needed\n"
   ]
  },
  {
   "cell_type": "code",
   "execution_count": null,
   "id": "d3a865b3",
   "metadata": {},
   "outputs": [],
   "source": []
  }
 ],
 "metadata": {
  "kernelspec": {
   "display_name": "hc_opioid",
   "language": "python",
   "name": "python3"
  },
  "language_info": {
   "codemirror_mode": {
    "name": "ipython",
    "version": 3
   },
   "file_extension": ".py",
   "mimetype": "text/x-python",
   "name": "python",
   "nbconvert_exporter": "python",
   "pygments_lexer": "ipython3",
   "version": "3.9.18"
  }
 },
 "nbformat": 4,
 "nbformat_minor": 5
}
