{
 "cells": [
  {
   "cell_type": "code",
   "execution_count": 18,
   "id": "c975e4b2",
   "metadata": {},
   "outputs": [],
   "source": [
    "# Base on wandb documentation: Scikit-learn integration\n",
    "import os\n",
    "import matplotlib.pyplot as plt\n",
    "import numpy as np\n",
    "import pandas as pd\n",
    "\n",
    "from sklearn.tree import DecisionTreeClassifier\n",
    "from sklearn.tree import plot_tree\n",
    "\n",
    "from sklearn.exceptions import ConvergenceWarning\n",
    "import warnings\n",
    "import pickle\n",
    "import wandb\n",
    "from sklearn.model_selection import train_test_split\n",
    "\n",
    "from sklearn.metrics import accuracy_score, precision_score, recall_score, roc_auc_score, f1_score, confusion_matrix, roc_curve, mean_squared_error\n",
    "\n",
    "warnings.filterwarnings(\"ignore\", category=ConvergenceWarning)"
   ]
  },
  {
   "cell_type": "code",
   "execution_count": null,
   "id": "ce3e3ff0",
   "metadata": {},
   "outputs": [],
   "source": [
    "def load_and_preprocess_data():\n",
    "    data = 'CaseStudy_training_data.xlsx'\n",
    "    df = pd.read_excel(data, sheet_name='Model_data')\n",
    "    \n",
    "    # Handle missing values and duplicates\n",
    "    df_cleaned = df.dropna()\n",
    "    df_cleaned = df_cleaned.drop_duplicates()\n",
    "    df_cleaned = df_cleaned.drop(['ID'], axis=1)\n",
    "    df_cleaned = df_cleaned.rename(columns={'rx ds': 'rx_ds'})\n",
    "    \n",
    "    # Feature Engineering\n",
    "    df_features = df_cleaned.copy()\n",
    "    df_features['rx_ds_bucket'] = pd.qcut(df_cleaned['rx_ds'], q=4, labels=['Q1', 'Q2', 'Q3', 'Q4'])\n",
    "    \n",
    "    # One-Hot Encoding\n",
    "    df_one_hot = pd.get_dummies(df_features['rx_ds_bucket'], prefix='rx_ds_bucket')\n",
    "    df_features = pd.concat([df_features, df_one_hot], axis=1)\n",
    "    df_features.drop(['rx_ds_bucket'], axis=1, inplace=True)\n",
    "    \n",
    "    # Splitting the data\n",
    "    X = df_features.drop(['OD', 'rx_ds'], axis=1)\n",
    "    y = df_features['OD']\n",
    "    X_train, X_test, y_train, y_test = train_test_split(X, y, test_size=0.2, random_state=42)\n",
    "    \n",
    "    return X_train, X_test, y_train, y_test\n",
    "\n",
    "def train_decision_tree(X_train, y_train, X_test, hyperparameters):\n",
    "    model = DecisionTreeClassifier(**hyperparameters)\n",
    "    model.fit(X_train, y_train)\n",
    "    y_pred = model.predict(X_test)\n",
    "    return model, y_pred\n",
    "\n",
    "def calculate_performance_metrics(y_test, y_pred, model, X_test):\n",
    "    metrics = {}\n",
    "    metrics[\"accuracy\"] = accuracy_score(y_test, y_pred)\n",
    "    metrics[\"precision\"] = precision_score(y_test, y_pred)\n",
    "    metrics[\"recall\"] = recall_score(y_test, y_pred)\n",
    "    metrics[\"f1\"] = f1_score(y_test, y_pred)\n",
    "    metrics[\"roc_auc\"] = roc_auc_score(y_test, model.predict_proba(X_test)[:, 1])\n",
    "    \n",
    "    conf_matrix = confusion_matrix(y_test, y_pred)\n",
    "    TN, FP, FN, TP = conf_matrix.ravel()\n",
    "    \n",
    "    metrics[\"ppv\"] = TP / (TP + FP)\n",
    "    metrics[\"npv\"] = TN / (TN + FN)\n",
    "    metrics[\"specificity\"] = TN / (TN + FP)\n",
    "    \n",
    "    return metrics\n",
    "\n",
    "def log_to_wandb(metrics, model, X_train, X_test, y_train, y_test):\n",
    "    # Log metrics\n",
    "    wandb.log(metrics)\n",
    "    \n",
    "    # Save and log the model\n",
    "    os.makedirs('models', exist_ok=True)\n",
    "    model_path = \"models/tree_model.pkl\"\n",
    "    with open(model_path, \"wb\") as f:\n",
    "        pickle.dump(model, f)\n",
    "    \n",
    "    artifact = wandb.Artifact(\"tree_model\", type=\"model\")\n",
    "    artifact.add_file(model_path)\n",
    "    wandb.log_artifact(artifact)\n",
    "    \n",
    "    # Save and log the data\n",
    "    os.makedirs('data', exist_ok=True)\n",
    "    datasets = {\"training_data\": X_train, \"training_labels\": y_train, \"test_data\": X_test, \"test_labels\": y_test}\n",
    "    \n",
    "    for name, df in datasets.items():\n",
    "        df.to_csv(f'data/{name}.csv', index=False)\n",
    "    \n",
    "    artifact = wandb.Artifact('train_val_sets', type='dataset', metadata={\"Source\": \"CaseStudy_training_data.xlsx\"})\n",
    "    artifact.add_dir('data')\n",
    "    wandb.log_artifact(artifact)\n",
    "    \n",
    "    # Plot plots to Weights & Biases\n",
    "    label_names = [\"Not-OD\", \"OD\"]\n",
    "    y_pred_proba = model.predict_proba(X_test)\n",
    "    \n",
    "    wandb.sklearn.plot_class_proportions(y_train, y_test, label_names)\n",
    "    wandb.sklearn.plot_summary_metrics(model, X_train, y_train, X_test, y_test)\n",
    "    wandb.sklearn.plot_roc(y_test, y_pred_proba, labels=label_names)\n",
    "    wandb.sklearn.plot_precision_recall(y_test, y_pred_proba, labels=label_names)\n",
    "    wandb.sklearn.plot_confusion_matrix(y_test, y_pred_proba.argmax(axis=1), labels=label_names)\n"
   ]
  },
  {
   "cell_type": "code",
   "execution_count": 24,
   "id": "c3363b26",
   "metadata": {},
   "outputs": [],
   "source": [
    "# Random Search Hyperparameters for Decision Tree\n",
    "sweep_config = {\n",
    "    'method': 'random',\n",
    "    'metric': {\n",
    "      'name': 'recall',  # you might want to adjust this based on your specific use case\n",
    "      'goal': 'maximize'\n",
    "    },\n",
    "    'parameters': {\n",
    "        'criterion': {\n",
    "            'values': ['gini', 'entropy']\n",
    "        },\n",
    "        'splitter': {\n",
    "            'values': ['best', 'random']\n",
    "        },\n",
    "        'max_depth': {\n",
    "            'values': [None, 10, 20, 30, 40, 50]  # you might want to adjust these values\n",
    "        },\n",
    "        'min_samples_split': {\n",
    "            'values': [2, 5, 10]  # you might want to adjust these values\n",
    "        },\n",
    "        'min_samples_leaf': {\n",
    "            'values': [1, 2, 4]  # you might want to adjust these values\n",
    "        },\n",
    "        'max_features': {\n",
    "            'values': [None, 'sqrt', 'log2']  # you might want to adjust these values\n",
    "        },\n",
    "        'max_leaf_nodes': {\n",
    "            'values': [None, 10, 20, 30, 40, 50]  # you might want to adjust these values\n",
    "        },\n",
    "        'min_impurity_decrease': {\n",
    "            'values': [0.0, 0.1, 0.2]  # you might want to adjust these values\n",
    "        },\n",
    "        'min_weight_fraction_leaf': {\n",
    "            'values': [0.0, 0.1, 0.2]  # you might want to adjust these values\n",
    "        },\n",
    "        'class_weight': {\n",
    "            'values': ['balanced', None]\n",
    "        },\n",
    "        'ccp_alpha': {\n",
    "            'values': [0.0, 0.1, 0.2]  # you might want to adjust these values\n",
    "        }\n",
    "    }\n",
    "}\n"
   ]
  },
  {
   "cell_type": "code",
   "execution_count": 21,
   "id": "0fd6ac01",
   "metadata": {},
   "outputs": [],
   "source": [
    "def sweep():\n",
    "    # Initialize wandb\n",
    "    run = wandb.init()\n",
    "    \n",
    "    # Load and preprocess data\n",
    "    X_train, X_test, y_train, y_test = load_and_preprocess_data()\n",
    "    \n",
    "    # Get hyperparameters from wandb\n",
    "    hyperparameters = run.config\n",
    "    \n",
    "    # Train the logistic regression model\n",
    "    model, y_pred = train_logistic_regression(X_train, y_train, X_test, hyperparameters)\n",
    "    \n",
    "    # Calculate performance metrics\n",
    "    metrics = calculate_performance_metrics(y_test, y_pred, model, X_test)\n",
    "    \n",
    "    # Log to wandb\n",
    "    log_to_wandb(metrics, model, X_train, X_test, y_train, y_test)\n",
    "    \n",
    "    # Finish the wandb run\n",
    "    run.finish()\n",
    "\n"
   ]
  },
  {
   "cell_type": "code",
   "execution_count": 25,
   "id": "8084d787",
   "metadata": {},
   "outputs": [
    {
     "name": "stdout",
     "output_type": "stream",
     "text": [
      "Create sweep with ID: 3coxjotx\n",
      "Sweep URL: https://wandb.ai/dev_ml_ops/tree-sweep/sweeps/3coxjotx\n"
     ]
    },
    {
     "name": "stderr",
     "output_type": "stream",
     "text": [
      "\u001b[34m\u001b[1mwandb\u001b[0m: Agent Starting Run: tqncclqu with config:\n",
      "\u001b[34m\u001b[1mwandb\u001b[0m: \tccp_alpha: 0\n",
      "\u001b[34m\u001b[1mwandb\u001b[0m: \tclass_weight: balanced\n",
      "\u001b[34m\u001b[1mwandb\u001b[0m: \tcriterion: entropy\n",
      "\u001b[34m\u001b[1mwandb\u001b[0m: \tmax_depth: 50\n",
      "\u001b[34m\u001b[1mwandb\u001b[0m: \tmax_features: None\n",
      "\u001b[34m\u001b[1mwandb\u001b[0m: \tmax_leaf_nodes: 30\n",
      "\u001b[34m\u001b[1mwandb\u001b[0m: \tmin_impurity_decrease: 0\n",
      "\u001b[34m\u001b[1mwandb\u001b[0m: \tmin_samples_leaf: 4\n",
      "\u001b[34m\u001b[1mwandb\u001b[0m: \tmin_samples_split: 10\n",
      "\u001b[34m\u001b[1mwandb\u001b[0m: \tmin_weight_fraction_leaf: 0.2\n",
      "\u001b[34m\u001b[1mwandb\u001b[0m: \tsplitter: random\n"
     ]
    },
    {
     "data": {
      "text/html": [
       "Tracking run with wandb version 0.15.12"
      ],
      "text/plain": [
       "<IPython.core.display.HTML object>"
      ]
     },
     "metadata": {},
     "output_type": "display_data"
    },
    {
     "data": {
      "text/html": [
       "Run data is saved locally in <code>/workspaces/wandb_demo/wandb/run-20231101_220521-tqncclqu</code>"
      ],
      "text/plain": [
       "<IPython.core.display.HTML object>"
      ]
     },
     "metadata": {},
     "output_type": "display_data"
    },
    {
     "data": {
      "text/html": [
       "Syncing run <strong><a href='https://wandb.ai/dev_ml_ops/tree-sweep/runs/tqncclqu' target=\"_blank\">worldly-sweep-1</a></strong> to <a href='https://wandb.ai/dev_ml_ops/tree-sweep' target=\"_blank\">Weights & Biases</a> (<a href='https://wandb.me/run' target=\"_blank\">docs</a>)<br/>Sweep page: <a href='https://wandb.ai/dev_ml_ops/tree-sweep/sweeps/3coxjotx' target=\"_blank\">https://wandb.ai/dev_ml_ops/tree-sweep/sweeps/3coxjotx</a>"
      ],
      "text/plain": [
       "<IPython.core.display.HTML object>"
      ]
     },
     "metadata": {},
     "output_type": "display_data"
    },
    {
     "data": {
      "text/html": [
       " View project at <a href='https://wandb.ai/dev_ml_ops/tree-sweep' target=\"_blank\">https://wandb.ai/dev_ml_ops/tree-sweep</a>"
      ],
      "text/plain": [
       "<IPython.core.display.HTML object>"
      ]
     },
     "metadata": {},
     "output_type": "display_data"
    },
    {
     "data": {
      "text/html": [
       " View sweep at <a href='https://wandb.ai/dev_ml_ops/tree-sweep/sweeps/3coxjotx' target=\"_blank\">https://wandb.ai/dev_ml_ops/tree-sweep/sweeps/3coxjotx</a>"
      ],
      "text/plain": [
       "<IPython.core.display.HTML object>"
      ]
     },
     "metadata": {},
     "output_type": "display_data"
    },
    {
     "data": {
      "text/html": [
       " View run at <a href='https://wandb.ai/dev_ml_ops/tree-sweep/runs/tqncclqu' target=\"_blank\">https://wandb.ai/dev_ml_ops/tree-sweep/runs/tqncclqu</a>"
      ],
      "text/plain": [
       "<IPython.core.display.HTML object>"
      ]
     },
     "metadata": {},
     "output_type": "display_data"
    },
    {
     "name": "stderr",
     "output_type": "stream",
     "text": [
      "\u001b[34m\u001b[1mwandb\u001b[0m: Adding directory to artifact (./data)... Done. 0.0s\n",
      "/opt/conda/envs/hc_opioid/lib/python3.9/site-packages/sklearn/base.py:465: UserWarning: X does not have valid feature names, but DecisionTreeClassifier was fitted with feature names\n",
      "  warnings.warn(\n"
     ]
    },
    {
     "data": {
      "text/html": [
       "Waiting for W&B process to finish... <strong style=\"color:green\">(success).</strong>"
      ],
      "text/plain": [
       "<IPython.core.display.HTML object>"
      ]
     },
     "metadata": {},
     "output_type": "display_data"
    },
    {
     "data": {
      "text/html": [
       "<style>\n",
       "    table.wandb td:nth-child(1) { padding: 0 10px; text-align: left ; width: auto;} td:nth-child(2) {text-align: left ; width: 100%}\n",
       "    .wandb-row { display: flex; flex-direction: row; flex-wrap: wrap; justify-content: flex-start; width: 100% }\n",
       "    .wandb-col { display: flex; flex-direction: column; flex-basis: 100%; flex: 1; padding: 10px; }\n",
       "    </style>\n",
       "<div class=\"wandb-row\"><div class=\"wandb-col\"><h3>Run history:</h3><br/><table class=\"wandb\"><tr><td>accuracy</td><td>▁</td></tr><tr><td>f1</td><td>▁</td></tr><tr><td>npv</td><td>▁</td></tr><tr><td>ppv</td><td>▁</td></tr><tr><td>precision</td><td>▁</td></tr><tr><td>recall</td><td>▁</td></tr><tr><td>roc_auc</td><td>▁</td></tr><tr><td>specificity</td><td>▁</td></tr></table><br/></div><div class=\"wandb-col\"><h3>Run summary:</h3><br/><table class=\"wandb\"><tr><td>accuracy</td><td>0.655</td></tr><tr><td>f1</td><td>0.59649</td></tr><tr><td>npv</td><td>0.90909</td></tr><tr><td>ppv</td><td>0.45536</td></tr><tr><td>precision</td><td>0.45536</td></tr><tr><td>recall</td><td>0.86441</td></tr><tr><td>roc_auc</td><td>0.76818</td></tr><tr><td>specificity</td><td>0.56738</td></tr></table><br/></div></div>"
      ],
      "text/plain": [
       "<IPython.core.display.HTML object>"
      ]
     },
     "metadata": {},
     "output_type": "display_data"
    },
    {
     "data": {
      "text/html": [
       " View run <strong style=\"color:#cdcd00\">worldly-sweep-1</strong> at: <a href='https://wandb.ai/dev_ml_ops/tree-sweep/runs/tqncclqu' target=\"_blank\">https://wandb.ai/dev_ml_ops/tree-sweep/runs/tqncclqu</a><br/>Synced 6 W&B file(s), 5 media file(s), 6 artifact file(s) and 0 other file(s)"
      ],
      "text/plain": [
       "<IPython.core.display.HTML object>"
      ]
     },
     "metadata": {},
     "output_type": "display_data"
    },
    {
     "data": {
      "text/html": [
       "Find logs at: <code>./wandb/run-20231101_220521-tqncclqu/logs</code>"
      ],
      "text/plain": [
       "<IPython.core.display.HTML object>"
      ]
     },
     "metadata": {},
     "output_type": "display_data"
    },
    {
     "name": "stderr",
     "output_type": "stream",
     "text": [
      "\u001b[34m\u001b[1mwandb\u001b[0m: Agent Starting Run: 0ydndyq2 with config:\n",
      "\u001b[34m\u001b[1mwandb\u001b[0m: \tccp_alpha: 0.2\n",
      "\u001b[34m\u001b[1mwandb\u001b[0m: \tclass_weight: balanced\n",
      "\u001b[34m\u001b[1mwandb\u001b[0m: \tcriterion: entropy\n",
      "\u001b[34m\u001b[1mwandb\u001b[0m: \tmax_depth: None\n",
      "\u001b[34m\u001b[1mwandb\u001b[0m: \tmax_features: log2\n",
      "\u001b[34m\u001b[1mwandb\u001b[0m: \tmax_leaf_nodes: 40\n",
      "\u001b[34m\u001b[1mwandb\u001b[0m: \tmin_impurity_decrease: 0.1\n",
      "\u001b[34m\u001b[1mwandb\u001b[0m: \tmin_samples_leaf: 4\n",
      "\u001b[34m\u001b[1mwandb\u001b[0m: \tmin_samples_split: 5\n",
      "\u001b[34m\u001b[1mwandb\u001b[0m: \tmin_weight_fraction_leaf: 0.2\n",
      "\u001b[34m\u001b[1mwandb\u001b[0m: \tsplitter: best\n"
     ]
    },
    {
     "data": {
      "text/html": [
       "Tracking run with wandb version 0.15.12"
      ],
      "text/plain": [
       "<IPython.core.display.HTML object>"
      ]
     },
     "metadata": {},
     "output_type": "display_data"
    },
    {
     "data": {
      "text/html": [
       "Run data is saved locally in <code>/workspaces/wandb_demo/wandb/run-20231101_220546-0ydndyq2</code>"
      ],
      "text/plain": [
       "<IPython.core.display.HTML object>"
      ]
     },
     "metadata": {},
     "output_type": "display_data"
    },
    {
     "data": {
      "text/html": [
       "Syncing run <strong><a href='https://wandb.ai/dev_ml_ops/tree-sweep/runs/0ydndyq2' target=\"_blank\">crisp-sweep-2</a></strong> to <a href='https://wandb.ai/dev_ml_ops/tree-sweep' target=\"_blank\">Weights & Biases</a> (<a href='https://wandb.me/run' target=\"_blank\">docs</a>)<br/>Sweep page: <a href='https://wandb.ai/dev_ml_ops/tree-sweep/sweeps/3coxjotx' target=\"_blank\">https://wandb.ai/dev_ml_ops/tree-sweep/sweeps/3coxjotx</a>"
      ],
      "text/plain": [
       "<IPython.core.display.HTML object>"
      ]
     },
     "metadata": {},
     "output_type": "display_data"
    },
    {
     "data": {
      "text/html": [
       " View project at <a href='https://wandb.ai/dev_ml_ops/tree-sweep' target=\"_blank\">https://wandb.ai/dev_ml_ops/tree-sweep</a>"
      ],
      "text/plain": [
       "<IPython.core.display.HTML object>"
      ]
     },
     "metadata": {},
     "output_type": "display_data"
    },
    {
     "data": {
      "text/html": [
       " View sweep at <a href='https://wandb.ai/dev_ml_ops/tree-sweep/sweeps/3coxjotx' target=\"_blank\">https://wandb.ai/dev_ml_ops/tree-sweep/sweeps/3coxjotx</a>"
      ],
      "text/plain": [
       "<IPython.core.display.HTML object>"
      ]
     },
     "metadata": {},
     "output_type": "display_data"
    },
    {
     "data": {
      "text/html": [
       " View run at <a href='https://wandb.ai/dev_ml_ops/tree-sweep/runs/0ydndyq2' target=\"_blank\">https://wandb.ai/dev_ml_ops/tree-sweep/runs/0ydndyq2</a>"
      ],
      "text/plain": [
       "<IPython.core.display.HTML object>"
      ]
     },
     "metadata": {},
     "output_type": "display_data"
    },
    {
     "name": "stderr",
     "output_type": "stream",
     "text": [
      "/tmp/ipykernel_12123/1145130652.py:49: RuntimeWarning: invalid value encountered in long_scalars\n",
      "  metrics[\"npv\"] = TN / (TN + FN)\n",
      "\u001b[34m\u001b[1mwandb\u001b[0m: Adding directory to artifact (./data)... Done. 0.0s\n",
      "/opt/conda/envs/hc_opioid/lib/python3.9/site-packages/sklearn/base.py:465: UserWarning: X does not have valid feature names, but DecisionTreeClassifier was fitted with feature names\n",
      "  warnings.warn(\n",
      "/opt/conda/envs/hc_opioid/lib/python3.9/site-packages/sklearn/metrics/_classification.py:1471: UndefinedMetricWarning: Precision is ill-defined and being set to 0.0 in labels with no predicted samples. Use `zero_division` parameter to control this behavior.\n",
      "  _warn_prf(average, modifier, msg_start, len(result))\n"
     ]
    },
    {
     "data": {
      "text/html": [
       "Waiting for W&B process to finish... <strong style=\"color:green\">(success).</strong>"
      ],
      "text/plain": [
       "<IPython.core.display.HTML object>"
      ]
     },
     "metadata": {},
     "output_type": "display_data"
    },
    {
     "data": {
      "text/html": [
       "<style>\n",
       "    table.wandb td:nth-child(1) { padding: 0 10px; text-align: left ; width: auto;} td:nth-child(2) {text-align: left ; width: 100%}\n",
       "    .wandb-row { display: flex; flex-direction: row; flex-wrap: wrap; justify-content: flex-start; width: 100% }\n",
       "    .wandb-col { display: flex; flex-direction: column; flex-basis: 100%; flex: 1; padding: 10px; }\n",
       "    </style>\n",
       "<div class=\"wandb-row\"><div class=\"wandb-col\"><h3>Run history:</h3><br/><table class=\"wandb\"><tr><td>accuracy</td><td>▁</td></tr><tr><td>f1</td><td>▁</td></tr><tr><td>ppv</td><td>▁</td></tr><tr><td>precision</td><td>▁</td></tr><tr><td>recall</td><td>▁</td></tr><tr><td>roc_auc</td><td>▁</td></tr><tr><td>specificity</td><td>▁</td></tr></table><br/></div><div class=\"wandb-col\"><h3>Run summary:</h3><br/><table class=\"wandb\"><tr><td>accuracy</td><td>0.295</td></tr><tr><td>f1</td><td>0.4556</td></tr><tr><td>npv</td><td>nan</td></tr><tr><td>ppv</td><td>0.295</td></tr><tr><td>precision</td><td>0.295</td></tr><tr><td>recall</td><td>1.0</td></tr><tr><td>roc_auc</td><td>0.5</td></tr><tr><td>specificity</td><td>0.0</td></tr></table><br/></div></div>"
      ],
      "text/plain": [
       "<IPython.core.display.HTML object>"
      ]
     },
     "metadata": {},
     "output_type": "display_data"
    },
    {
     "data": {
      "text/html": [
       " View run <strong style=\"color:#cdcd00\">crisp-sweep-2</strong> at: <a href='https://wandb.ai/dev_ml_ops/tree-sweep/runs/0ydndyq2' target=\"_blank\">https://wandb.ai/dev_ml_ops/tree-sweep/runs/0ydndyq2</a><br/>Synced 6 W&B file(s), 5 media file(s), 6 artifact file(s) and 0 other file(s)"
      ],
      "text/plain": [
       "<IPython.core.display.HTML object>"
      ]
     },
     "metadata": {},
     "output_type": "display_data"
    },
    {
     "data": {
      "text/html": [
       "Find logs at: <code>./wandb/run-20231101_220546-0ydndyq2/logs</code>"
      ],
      "text/plain": [
       "<IPython.core.display.HTML object>"
      ]
     },
     "metadata": {},
     "output_type": "display_data"
    },
    {
     "name": "stderr",
     "output_type": "stream",
     "text": [
      "\u001b[34m\u001b[1mwandb\u001b[0m: Agent Starting Run: 2j8xlr55 with config:\n",
      "\u001b[34m\u001b[1mwandb\u001b[0m: \tccp_alpha: 0.2\n",
      "\u001b[34m\u001b[1mwandb\u001b[0m: \tclass_weight: None\n",
      "\u001b[34m\u001b[1mwandb\u001b[0m: \tcriterion: entropy\n",
      "\u001b[34m\u001b[1mwandb\u001b[0m: \tmax_depth: 30\n",
      "\u001b[34m\u001b[1mwandb\u001b[0m: \tmax_features: log2\n",
      "\u001b[34m\u001b[1mwandb\u001b[0m: \tmax_leaf_nodes: 50\n",
      "\u001b[34m\u001b[1mwandb\u001b[0m: \tmin_impurity_decrease: 0.2\n",
      "\u001b[34m\u001b[1mwandb\u001b[0m: \tmin_samples_leaf: 4\n",
      "\u001b[34m\u001b[1mwandb\u001b[0m: \tmin_samples_split: 2\n",
      "\u001b[34m\u001b[1mwandb\u001b[0m: \tmin_weight_fraction_leaf: 0.2\n",
      "\u001b[34m\u001b[1mwandb\u001b[0m: \tsplitter: best\n"
     ]
    },
    {
     "data": {
      "text/html": [
       "Tracking run with wandb version 0.15.12"
      ],
      "text/plain": [
       "<IPython.core.display.HTML object>"
      ]
     },
     "metadata": {},
     "output_type": "display_data"
    },
    {
     "data": {
      "text/html": [
       "Run data is saved locally in <code>/workspaces/wandb_demo/wandb/run-20231101_220611-2j8xlr55</code>"
      ],
      "text/plain": [
       "<IPython.core.display.HTML object>"
      ]
     },
     "metadata": {},
     "output_type": "display_data"
    },
    {
     "data": {
      "text/html": [
       "Syncing run <strong><a href='https://wandb.ai/dev_ml_ops/tree-sweep/runs/2j8xlr55' target=\"_blank\">zesty-sweep-3</a></strong> to <a href='https://wandb.ai/dev_ml_ops/tree-sweep' target=\"_blank\">Weights & Biases</a> (<a href='https://wandb.me/run' target=\"_blank\">docs</a>)<br/>Sweep page: <a href='https://wandb.ai/dev_ml_ops/tree-sweep/sweeps/3coxjotx' target=\"_blank\">https://wandb.ai/dev_ml_ops/tree-sweep/sweeps/3coxjotx</a>"
      ],
      "text/plain": [
       "<IPython.core.display.HTML object>"
      ]
     },
     "metadata": {},
     "output_type": "display_data"
    },
    {
     "data": {
      "text/html": [
       " View project at <a href='https://wandb.ai/dev_ml_ops/tree-sweep' target=\"_blank\">https://wandb.ai/dev_ml_ops/tree-sweep</a>"
      ],
      "text/plain": [
       "<IPython.core.display.HTML object>"
      ]
     },
     "metadata": {},
     "output_type": "display_data"
    },
    {
     "data": {
      "text/html": [
       " View sweep at <a href='https://wandb.ai/dev_ml_ops/tree-sweep/sweeps/3coxjotx' target=\"_blank\">https://wandb.ai/dev_ml_ops/tree-sweep/sweeps/3coxjotx</a>"
      ],
      "text/plain": [
       "<IPython.core.display.HTML object>"
      ]
     },
     "metadata": {},
     "output_type": "display_data"
    },
    {
     "data": {
      "text/html": [
       " View run at <a href='https://wandb.ai/dev_ml_ops/tree-sweep/runs/2j8xlr55' target=\"_blank\">https://wandb.ai/dev_ml_ops/tree-sweep/runs/2j8xlr55</a>"
      ],
      "text/plain": [
       "<IPython.core.display.HTML object>"
      ]
     },
     "metadata": {},
     "output_type": "display_data"
    },
    {
     "name": "stderr",
     "output_type": "stream",
     "text": [
      "/opt/conda/envs/hc_opioid/lib/python3.9/site-packages/sklearn/metrics/_classification.py:1471: UndefinedMetricWarning: Precision is ill-defined and being set to 0.0 due to no predicted samples. Use `zero_division` parameter to control this behavior.\n",
      "  _warn_prf(average, modifier, msg_start, len(result))\n",
      "/tmp/ipykernel_12123/1145130652.py:48: RuntimeWarning: invalid value encountered in long_scalars\n",
      "  metrics[\"ppv\"] = TP / (TP + FP)\n",
      "\u001b[34m\u001b[1mwandb\u001b[0m: Adding directory to artifact (./data)... Done. 0.0s\n",
      "/opt/conda/envs/hc_opioid/lib/python3.9/site-packages/sklearn/base.py:465: UserWarning: X does not have valid feature names, but DecisionTreeClassifier was fitted with feature names\n",
      "  warnings.warn(\n",
      "/opt/conda/envs/hc_opioid/lib/python3.9/site-packages/sklearn/metrics/_classification.py:1471: UndefinedMetricWarning: Precision is ill-defined and being set to 0.0 in labels with no predicted samples. Use `zero_division` parameter to control this behavior.\n",
      "  _warn_prf(average, modifier, msg_start, len(result))\n"
     ]
    },
    {
     "data": {
      "text/html": [
       "Waiting for W&B process to finish... <strong style=\"color:green\">(success).</strong>"
      ],
      "text/plain": [
       "<IPython.core.display.HTML object>"
      ]
     },
     "metadata": {},
     "output_type": "display_data"
    },
    {
     "data": {
      "text/html": [
       "<style>\n",
       "    table.wandb td:nth-child(1) { padding: 0 10px; text-align: left ; width: auto;} td:nth-child(2) {text-align: left ; width: 100%}\n",
       "    .wandb-row { display: flex; flex-direction: row; flex-wrap: wrap; justify-content: flex-start; width: 100% }\n",
       "    .wandb-col { display: flex; flex-direction: column; flex-basis: 100%; flex: 1; padding: 10px; }\n",
       "    </style>\n",
       "<div class=\"wandb-row\"><div class=\"wandb-col\"><h3>Run history:</h3><br/><table class=\"wandb\"><tr><td>accuracy</td><td>▁</td></tr><tr><td>f1</td><td>▁</td></tr><tr><td>npv</td><td>▁</td></tr><tr><td>precision</td><td>▁</td></tr><tr><td>recall</td><td>▁</td></tr><tr><td>roc_auc</td><td>▁</td></tr><tr><td>specificity</td><td>▁</td></tr></table><br/></div><div class=\"wandb-col\"><h3>Run summary:</h3><br/><table class=\"wandb\"><tr><td>accuracy</td><td>0.705</td></tr><tr><td>f1</td><td>0.0</td></tr><tr><td>npv</td><td>0.705</td></tr><tr><td>ppv</td><td>nan</td></tr><tr><td>precision</td><td>0.0</td></tr><tr><td>recall</td><td>0.0</td></tr><tr><td>roc_auc</td><td>0.5</td></tr><tr><td>specificity</td><td>1.0</td></tr></table><br/></div></div>"
      ],
      "text/plain": [
       "<IPython.core.display.HTML object>"
      ]
     },
     "metadata": {},
     "output_type": "display_data"
    },
    {
     "data": {
      "text/html": [
       " View run <strong style=\"color:#cdcd00\">zesty-sweep-3</strong> at: <a href='https://wandb.ai/dev_ml_ops/tree-sweep/runs/2j8xlr55' target=\"_blank\">https://wandb.ai/dev_ml_ops/tree-sweep/runs/2j8xlr55</a><br/>Synced 6 W&B file(s), 5 media file(s), 6 artifact file(s) and 0 other file(s)"
      ],
      "text/plain": [
       "<IPython.core.display.HTML object>"
      ]
     },
     "metadata": {},
     "output_type": "display_data"
    },
    {
     "data": {
      "text/html": [
       "Find logs at: <code>./wandb/run-20231101_220611-2j8xlr55/logs</code>"
      ],
      "text/plain": [
       "<IPython.core.display.HTML object>"
      ]
     },
     "metadata": {},
     "output_type": "display_data"
    },
    {
     "name": "stderr",
     "output_type": "stream",
     "text": [
      "\u001b[34m\u001b[1mwandb\u001b[0m: Agent Starting Run: 9gks16mg with config:\n",
      "\u001b[34m\u001b[1mwandb\u001b[0m: \tccp_alpha: 0\n",
      "\u001b[34m\u001b[1mwandb\u001b[0m: \tclass_weight: None\n",
      "\u001b[34m\u001b[1mwandb\u001b[0m: \tcriterion: gini\n",
      "\u001b[34m\u001b[1mwandb\u001b[0m: \tmax_depth: 10\n",
      "\u001b[34m\u001b[1mwandb\u001b[0m: \tmax_features: None\n",
      "\u001b[34m\u001b[1mwandb\u001b[0m: \tmax_leaf_nodes: 10\n",
      "\u001b[34m\u001b[1mwandb\u001b[0m: \tmin_impurity_decrease: 0\n",
      "\u001b[34m\u001b[1mwandb\u001b[0m: \tmin_samples_leaf: 1\n",
      "\u001b[34m\u001b[1mwandb\u001b[0m: \tmin_samples_split: 5\n",
      "\u001b[34m\u001b[1mwandb\u001b[0m: \tmin_weight_fraction_leaf: 0.1\n",
      "\u001b[34m\u001b[1mwandb\u001b[0m: \tsplitter: best\n"
     ]
    },
    {
     "data": {
      "text/html": [
       "Tracking run with wandb version 0.15.12"
      ],
      "text/plain": [
       "<IPython.core.display.HTML object>"
      ]
     },
     "metadata": {},
     "output_type": "display_data"
    },
    {
     "data": {
      "text/html": [
       "Run data is saved locally in <code>/workspaces/wandb_demo/wandb/run-20231101_220637-9gks16mg</code>"
      ],
      "text/plain": [
       "<IPython.core.display.HTML object>"
      ]
     },
     "metadata": {},
     "output_type": "display_data"
    },
    {
     "data": {
      "text/html": [
       "Syncing run <strong><a href='https://wandb.ai/dev_ml_ops/tree-sweep/runs/9gks16mg' target=\"_blank\">lively-sweep-4</a></strong> to <a href='https://wandb.ai/dev_ml_ops/tree-sweep' target=\"_blank\">Weights & Biases</a> (<a href='https://wandb.me/run' target=\"_blank\">docs</a>)<br/>Sweep page: <a href='https://wandb.ai/dev_ml_ops/tree-sweep/sweeps/3coxjotx' target=\"_blank\">https://wandb.ai/dev_ml_ops/tree-sweep/sweeps/3coxjotx</a>"
      ],
      "text/plain": [
       "<IPython.core.display.HTML object>"
      ]
     },
     "metadata": {},
     "output_type": "display_data"
    },
    {
     "data": {
      "text/html": [
       " View project at <a href='https://wandb.ai/dev_ml_ops/tree-sweep' target=\"_blank\">https://wandb.ai/dev_ml_ops/tree-sweep</a>"
      ],
      "text/plain": [
       "<IPython.core.display.HTML object>"
      ]
     },
     "metadata": {},
     "output_type": "display_data"
    },
    {
     "data": {
      "text/html": [
       " View sweep at <a href='https://wandb.ai/dev_ml_ops/tree-sweep/sweeps/3coxjotx' target=\"_blank\">https://wandb.ai/dev_ml_ops/tree-sweep/sweeps/3coxjotx</a>"
      ],
      "text/plain": [
       "<IPython.core.display.HTML object>"
      ]
     },
     "metadata": {},
     "output_type": "display_data"
    },
    {
     "data": {
      "text/html": [
       " View run at <a href='https://wandb.ai/dev_ml_ops/tree-sweep/runs/9gks16mg' target=\"_blank\">https://wandb.ai/dev_ml_ops/tree-sweep/runs/9gks16mg</a>"
      ],
      "text/plain": [
       "<IPython.core.display.HTML object>"
      ]
     },
     "metadata": {},
     "output_type": "display_data"
    },
    {
     "name": "stderr",
     "output_type": "stream",
     "text": [
      "\u001b[34m\u001b[1mwandb\u001b[0m: Adding directory to artifact (./data)... Done. 0.0s\n",
      "/opt/conda/envs/hc_opioid/lib/python3.9/site-packages/sklearn/base.py:465: UserWarning: X does not have valid feature names, but DecisionTreeClassifier was fitted with feature names\n",
      "  warnings.warn(\n"
     ]
    },
    {
     "data": {
      "text/html": [
       "Waiting for W&B process to finish... <strong style=\"color:green\">(success).</strong>"
      ],
      "text/plain": [
       "<IPython.core.display.HTML object>"
      ]
     },
     "metadata": {},
     "output_type": "display_data"
    },
    {
     "data": {
      "text/html": [
       "<style>\n",
       "    table.wandb td:nth-child(1) { padding: 0 10px; text-align: left ; width: auto;} td:nth-child(2) {text-align: left ; width: 100%}\n",
       "    .wandb-row { display: flex; flex-direction: row; flex-wrap: wrap; justify-content: flex-start; width: 100% }\n",
       "    .wandb-col { display: flex; flex-direction: column; flex-basis: 100%; flex: 1; padding: 10px; }\n",
       "    </style>\n",
       "<div class=\"wandb-row\"><div class=\"wandb-col\"><h3>Run history:</h3><br/><table class=\"wandb\"><tr><td>accuracy</td><td>▁</td></tr><tr><td>f1</td><td>▁</td></tr><tr><td>npv</td><td>▁</td></tr><tr><td>ppv</td><td>▁</td></tr><tr><td>precision</td><td>▁</td></tr><tr><td>recall</td><td>▁</td></tr><tr><td>roc_auc</td><td>▁</td></tr><tr><td>specificity</td><td>▁</td></tr></table><br/></div><div class=\"wandb-col\"><h3>Run summary:</h3><br/><table class=\"wandb\"><tr><td>accuracy</td><td>0.73</td></tr><tr><td>f1</td><td>0.38636</td></tr><tr><td>npv</td><td>0.75439</td></tr><tr><td>ppv</td><td>0.58621</td></tr><tr><td>precision</td><td>0.58621</td></tr><tr><td>recall</td><td>0.28814</td></tr><tr><td>roc_auc</td><td>0.77407</td></tr><tr><td>specificity</td><td>0.91489</td></tr></table><br/></div></div>"
      ],
      "text/plain": [
       "<IPython.core.display.HTML object>"
      ]
     },
     "metadata": {},
     "output_type": "display_data"
    },
    {
     "data": {
      "text/html": [
       " View run <strong style=\"color:#cdcd00\">lively-sweep-4</strong> at: <a href='https://wandb.ai/dev_ml_ops/tree-sweep/runs/9gks16mg' target=\"_blank\">https://wandb.ai/dev_ml_ops/tree-sweep/runs/9gks16mg</a><br/>Synced 6 W&B file(s), 5 media file(s), 6 artifact file(s) and 0 other file(s)"
      ],
      "text/plain": [
       "<IPython.core.display.HTML object>"
      ]
     },
     "metadata": {},
     "output_type": "display_data"
    },
    {
     "data": {
      "text/html": [
       "Find logs at: <code>./wandb/run-20231101_220637-9gks16mg/logs</code>"
      ],
      "text/plain": [
       "<IPython.core.display.HTML object>"
      ]
     },
     "metadata": {},
     "output_type": "display_data"
    },
    {
     "name": "stderr",
     "output_type": "stream",
     "text": [
      "\u001b[34m\u001b[1mwandb\u001b[0m: Agent Starting Run: 3hrruljh with config:\n",
      "\u001b[34m\u001b[1mwandb\u001b[0m: \tccp_alpha: 0\n",
      "\u001b[34m\u001b[1mwandb\u001b[0m: \tclass_weight: balanced\n",
      "\u001b[34m\u001b[1mwandb\u001b[0m: \tcriterion: gini\n",
      "\u001b[34m\u001b[1mwandb\u001b[0m: \tmax_depth: 50\n",
      "\u001b[34m\u001b[1mwandb\u001b[0m: \tmax_features: None\n",
      "\u001b[34m\u001b[1mwandb\u001b[0m: \tmax_leaf_nodes: 40\n",
      "\u001b[34m\u001b[1mwandb\u001b[0m: \tmin_impurity_decrease: 0.2\n",
      "\u001b[34m\u001b[1mwandb\u001b[0m: \tmin_samples_leaf: 1\n",
      "\u001b[34m\u001b[1mwandb\u001b[0m: \tmin_samples_split: 10\n",
      "\u001b[34m\u001b[1mwandb\u001b[0m: \tmin_weight_fraction_leaf: 0.1\n",
      "\u001b[34m\u001b[1mwandb\u001b[0m: \tsplitter: best\n"
     ]
    },
    {
     "data": {
      "text/html": [
       "Tracking run with wandb version 0.15.12"
      ],
      "text/plain": [
       "<IPython.core.display.HTML object>"
      ]
     },
     "metadata": {},
     "output_type": "display_data"
    },
    {
     "data": {
      "text/html": [
       "Run data is saved locally in <code>/workspaces/wandb_demo/wandb/run-20231101_220704-3hrruljh</code>"
      ],
      "text/plain": [
       "<IPython.core.display.HTML object>"
      ]
     },
     "metadata": {},
     "output_type": "display_data"
    },
    {
     "data": {
      "text/html": [
       "Syncing run <strong><a href='https://wandb.ai/dev_ml_ops/tree-sweep/runs/3hrruljh' target=\"_blank\">generous-sweep-5</a></strong> to <a href='https://wandb.ai/dev_ml_ops/tree-sweep' target=\"_blank\">Weights & Biases</a> (<a href='https://wandb.me/run' target=\"_blank\">docs</a>)<br/>Sweep page: <a href='https://wandb.ai/dev_ml_ops/tree-sweep/sweeps/3coxjotx' target=\"_blank\">https://wandb.ai/dev_ml_ops/tree-sweep/sweeps/3coxjotx</a>"
      ],
      "text/plain": [
       "<IPython.core.display.HTML object>"
      ]
     },
     "metadata": {},
     "output_type": "display_data"
    },
    {
     "data": {
      "text/html": [
       " View project at <a href='https://wandb.ai/dev_ml_ops/tree-sweep' target=\"_blank\">https://wandb.ai/dev_ml_ops/tree-sweep</a>"
      ],
      "text/plain": [
       "<IPython.core.display.HTML object>"
      ]
     },
     "metadata": {},
     "output_type": "display_data"
    },
    {
     "data": {
      "text/html": [
       " View sweep at <a href='https://wandb.ai/dev_ml_ops/tree-sweep/sweeps/3coxjotx' target=\"_blank\">https://wandb.ai/dev_ml_ops/tree-sweep/sweeps/3coxjotx</a>"
      ],
      "text/plain": [
       "<IPython.core.display.HTML object>"
      ]
     },
     "metadata": {},
     "output_type": "display_data"
    },
    {
     "data": {
      "text/html": [
       " View run at <a href='https://wandb.ai/dev_ml_ops/tree-sweep/runs/3hrruljh' target=\"_blank\">https://wandb.ai/dev_ml_ops/tree-sweep/runs/3hrruljh</a>"
      ],
      "text/plain": [
       "<IPython.core.display.HTML object>"
      ]
     },
     "metadata": {},
     "output_type": "display_data"
    },
    {
     "name": "stderr",
     "output_type": "stream",
     "text": [
      "/tmp/ipykernel_12123/1145130652.py:49: RuntimeWarning: invalid value encountered in long_scalars\n",
      "  metrics[\"npv\"] = TN / (TN + FN)\n",
      "\u001b[34m\u001b[1mwandb\u001b[0m: Adding directory to artifact (./data)... Done. 0.0s\n",
      "/opt/conda/envs/hc_opioid/lib/python3.9/site-packages/sklearn/base.py:465: UserWarning: X does not have valid feature names, but DecisionTreeClassifier was fitted with feature names\n",
      "  warnings.warn(\n",
      "/opt/conda/envs/hc_opioid/lib/python3.9/site-packages/sklearn/metrics/_classification.py:1471: UndefinedMetricWarning: Precision is ill-defined and being set to 0.0 in labels with no predicted samples. Use `zero_division` parameter to control this behavior.\n",
      "  _warn_prf(average, modifier, msg_start, len(result))\n"
     ]
    },
    {
     "data": {
      "text/html": [
       "Waiting for W&B process to finish... <strong style=\"color:green\">(success).</strong>"
      ],
      "text/plain": [
       "<IPython.core.display.HTML object>"
      ]
     },
     "metadata": {},
     "output_type": "display_data"
    },
    {
     "data": {
      "text/html": [
       "<style>\n",
       "    table.wandb td:nth-child(1) { padding: 0 10px; text-align: left ; width: auto;} td:nth-child(2) {text-align: left ; width: 100%}\n",
       "    .wandb-row { display: flex; flex-direction: row; flex-wrap: wrap; justify-content: flex-start; width: 100% }\n",
       "    .wandb-col { display: flex; flex-direction: column; flex-basis: 100%; flex: 1; padding: 10px; }\n",
       "    </style>\n",
       "<div class=\"wandb-row\"><div class=\"wandb-col\"><h3>Run history:</h3><br/><table class=\"wandb\"><tr><td>accuracy</td><td>▁</td></tr><tr><td>f1</td><td>▁</td></tr><tr><td>ppv</td><td>▁</td></tr><tr><td>precision</td><td>▁</td></tr><tr><td>recall</td><td>▁</td></tr><tr><td>roc_auc</td><td>▁</td></tr><tr><td>specificity</td><td>▁</td></tr></table><br/></div><div class=\"wandb-col\"><h3>Run summary:</h3><br/><table class=\"wandb\"><tr><td>accuracy</td><td>0.295</td></tr><tr><td>f1</td><td>0.4556</td></tr><tr><td>npv</td><td>nan</td></tr><tr><td>ppv</td><td>0.295</td></tr><tr><td>precision</td><td>0.295</td></tr><tr><td>recall</td><td>1.0</td></tr><tr><td>roc_auc</td><td>0.5</td></tr><tr><td>specificity</td><td>0.0</td></tr></table><br/></div></div>"
      ],
      "text/plain": [
       "<IPython.core.display.HTML object>"
      ]
     },
     "metadata": {},
     "output_type": "display_data"
    },
    {
     "data": {
      "text/html": [
       " View run <strong style=\"color:#cdcd00\">generous-sweep-5</strong> at: <a href='https://wandb.ai/dev_ml_ops/tree-sweep/runs/3hrruljh' target=\"_blank\">https://wandb.ai/dev_ml_ops/tree-sweep/runs/3hrruljh</a><br/>Synced 6 W&B file(s), 5 media file(s), 6 artifact file(s) and 0 other file(s)"
      ],
      "text/plain": [
       "<IPython.core.display.HTML object>"
      ]
     },
     "metadata": {},
     "output_type": "display_data"
    },
    {
     "data": {
      "text/html": [
       "Find logs at: <code>./wandb/run-20231101_220704-3hrruljh/logs</code>"
      ],
      "text/plain": [
       "<IPython.core.display.HTML object>"
      ]
     },
     "metadata": {},
     "output_type": "display_data"
    }
   ],
   "source": [
    "os.environ['WANDB_NOTEBOOK_NAME'] = '06_tree_sweep.ipynb' # Failed to detect the name of this notebook...\n",
    "\n",
    "sweep_id = wandb.sweep(sweep=sweep_config, project='tree-sweep')\n",
    "wandb.agent(sweep_id, function=sweep, count=5)  # Adjust 'count' as needed\n"
   ]
  },
  {
   "cell_type": "code",
   "execution_count": null,
   "id": "d3a865b3",
   "metadata": {},
   "outputs": [],
   "source": []
  }
 ],
 "metadata": {
  "kernelspec": {
   "display_name": "hc_opioid",
   "language": "python",
   "name": "python3"
  },
  "language_info": {
   "codemirror_mode": {
    "name": "ipython",
    "version": 3
   },
   "file_extension": ".py",
   "mimetype": "text/x-python",
   "name": "python",
   "nbconvert_exporter": "python",
   "pygments_lexer": "ipython3",
   "version": "3.9.18"
  }
 },
 "nbformat": 4,
 "nbformat_minor": 5
}
