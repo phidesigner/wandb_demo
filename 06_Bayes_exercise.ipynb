{
 "cells": [
  {
   "cell_type": "markdown",
   "metadata": {},
   "source": [
    "### Opioid addiction and Bayes' Theorem (Several assumptions are made in this exercise)\n",
    "\n",
    "    A Healthcare company needs to decide whether it should provide Oxycontin for severe pain treatment to patients. Based on a very limited amount of available historical data (1000 samples), the company estimates that 25% of previous patients became addicted to the drug (However, the company is aware that overall, in USA is closer to 5% (1)\n",
    "    \n",
    "(1) [NCBI Article](https://www.ncbi.nlm.nih.gov/pmc/articles/PMC2785002/)\n",
    "\n",
    "    The company employs a Logistic Regression model to flag potential addiction cases. This model has a precision (i.e. Poitive Prediction Value PPV) of 51%, with the following preliminary metrics on a 200-claim test set:\n",
    "    \n",
    "    - False Positive: 42\n",
    "    - False Negative: 15\n",
    "    - True Positive: 44\n",
    "    - True Negative: 99\n"
   ]
  },
  {
   "cell_type": "code",
   "execution_count": null,
   "metadata": {},
   "outputs": [],
   "source": [
    "FP = 42\n",
    "FN = 15\n",
    "TP = 44\n",
    "TN = 99"
   ]
  },
  {
   "cell_type": "code",
   "execution_count": null,
   "metadata": {},
   "outputs": [],
   "source": [
    "import pandas as pd\n",
    "\n",
    "data = {\n",
    "\n",
    "}\n",
    "\n",
    "df = pd.DataFrame(data, index=['flagged_addict', 'flagged_not_addict'])\n",
    "df"
   ]
  },
  {
   "cell_type": "markdown",
   "metadata": {},
   "source": [
    "### Bayes Exercise *\"If the model predicts potential addiction, what is the probability that the patient may actually become addicted?\"*"
   ]
  },
  {
   "cell_type": "markdown",
   "metadata": {},
   "source": [
    "Posterior Probability = [ Sensitivity (Recall) * Prior Probability ] / Predicted Probability # Bayes' Theorem\n",
    "\n",
    "Predicted Probability = [ Sensitivity (Recall) * Prior Probability ] + [ False Positive rate * (1 - Prior Probability) ] # Total Probability"
   ]
  },
  {
   "cell_type": "code",
   "execution_count": null,
   "metadata": {},
   "outputs": [],
   "source": [
    "total_patients = 100000"
   ]
  },
  {
   "cell_type": "code",
   "execution_count": null,
   "metadata": {},
   "outputs": [],
   "source": [
    "prevalence_rate = \n",
    "\n",
    "addicted_patients = "
   ]
  },
  {
   "cell_type": "code",
   "execution_count": null,
   "metadata": {},
   "outputs": [],
   "source": [
    "non_addicted_patients = "
   ]
  },
  {
   "cell_type": "code",
   "execution_count": null,
   "metadata": {},
   "outputs": [],
   "source": [
    "# Test's sensitivity (true positive rate)\n",
    "flagged_addict_when_addicted = # in terms of TP & FN?\n",
    "\n",
    "addicted_patients_flagged_as_addict = "
   ]
  },
  {
   "cell_type": "code",
   "execution_count": null,
   "metadata": {},
   "outputs": [],
   "source": [
    "# Test's miss rate (false negative rate | Type II error)\n",
    "flagged_non_addict_when_addicted = # in terms of TP & FN?\n",
    "\n",
    "addicted_patients_not_flagged = "
   ]
  },
  {
   "cell_type": "code",
   "execution_count": null,
   "metadata": {},
   "outputs": [],
   "source": [
    "# Test's false alarm rate (alpha) (false positive rate | Type I error)\n",
    "flagged_addict_when_not_addicted = # in terms of FP & TN?\n",
    "\n",
    "non_addicted_flagged_addict = \n"
   ]
  },
  {
   "cell_type": "code",
   "execution_count": null,
   "metadata": {},
   "outputs": [],
   "source": [
    "# Test's specificity (true negative rate)\n",
    "flagged_non_addict_when_not_addicted = # In terms of TN & FP?\n",
    "\n",
    "non_addicted_not_flagged_addict = "
   ]
  },
  {
   "cell_type": "markdown",
   "metadata": {},
   "source": [
    "### *\"If the model predicts potential addiction, what is the probability that the patient may actually become addicted?\"*"
   ]
  },
  {
   "cell_type": "code",
   "execution_count": null,
   "metadata": {},
   "outputs": [],
   "source": [
    "from IPython.display import display, Markdown\n",
    "display(\n",
    "    Markdown(\n",
    "    f'''\n",
    "    What's the change I'm one of the {round(addicted_patients_flagged_as_addict)} who could become an addict,\n",
    "    or am I just one of {round(non_addicted_flagged_addict)} patients who tested positive but wouldn't become addicted?\n",
    "    '''\n",
    "    )\n",
    "    )"
   ]
  },
  {
   "cell_type": "code",
   "execution_count": null,
   "metadata": {},
   "outputs": [],
   "source": [
    "Addicted_flagged_addict = "
   ]
  },
  {
   "cell_type": "code",
   "execution_count": null,
   "metadata": {},
   "outputs": [],
   "source": [
    "display(Markdown(f\"# Hello, {variable}!\"))"
   ]
  },
  {
   "cell_type": "code",
   "execution_count": null,
   "metadata": {},
   "outputs": [],
   "source": []
  }
 ],
 "metadata": {
  "kernelspec": {
   "display_name": "hc_opioid",
   "language": "python",
   "name": "python3"
  },
  "language_info": {
   "codemirror_mode": {
    "name": "ipython",
    "version": 3
   },
   "file_extension": ".py",
   "mimetype": "text/x-python",
   "name": "python",
   "nbconvert_exporter": "python",
   "pygments_lexer": "ipython3",
   "version": "3.9.18"
  }
 },
 "nbformat": 4,
 "nbformat_minor": 2
}
