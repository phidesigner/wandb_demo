{
 "cells": [
  {
   "cell_type": "markdown",
   "metadata": {},
   "source": [
    "### Opioid addiction and Bayes' Theorem (Several assumptions are made in this exercise)\n",
    "\n",
    "    A Healthcare company needs to decide whether it should provide Oxycontin for severe pain treatment to patients. Based on a very limited amount of available historical data (1000 samples), the company estimates that 25% of previous patients became addicted to the drug (However, the company is aware that overall, in USA is closer to 5% (1)\n",
    "    \n",
    "(1) [NCBI Article](https://www.ncbi.nlm.nih.gov/pmc/articles/PMC2785002/)\n",
    "\n",
    "    The company employs a Logistic Regression model to flag potential addiction cases. This model has a precision (i.e. Poitive Prediction Value PPV) of 51%, with the following preliminary metrics on a 200-claim test set:\n",
    "    \n",
    "    - False Positive: 42\n",
    "    - False Negative: 15\n",
    "    - True Positive: 44\n",
    "    - True Negative: 99\n"
   ]
  },
  {
   "cell_type": "code",
   "execution_count": 2,
   "metadata": {},
   "outputs": [],
   "source": [
    "FP = 42\n",
    "FN = 15\n",
    "TP = 44\n",
    "TN = 99"
   ]
  },
  {
   "cell_type": "code",
   "execution_count": 3,
   "metadata": {},
   "outputs": [
    {
     "data": {
      "text/html": [
       "<div>\n",
       "<style scoped>\n",
       "    .dataframe tbody tr th:only-of-type {\n",
       "        vertical-align: middle;\n",
       "    }\n",
       "\n",
       "    .dataframe tbody tr th {\n",
       "        vertical-align: top;\n",
       "    }\n",
       "\n",
       "    .dataframe thead th {\n",
       "        text-align: right;\n",
       "    }\n",
       "</style>\n",
       "<table border=\"1\" class=\"dataframe\">\n",
       "  <thead>\n",
       "    <tr style=\"text-align: right;\">\n",
       "      <th></th>\n",
       "      <th>addicted</th>\n",
       "      <th>not_addicted</th>\n",
       "    </tr>\n",
       "  </thead>\n",
       "  <tbody>\n",
       "    <tr>\n",
       "      <th>flagged_addict</th>\n",
       "      <td>44</td>\n",
       "      <td>42</td>\n",
       "    </tr>\n",
       "    <tr>\n",
       "      <th>flagged_not_addict</th>\n",
       "      <td>15</td>\n",
       "      <td>99</td>\n",
       "    </tr>\n",
       "  </tbody>\n",
       "</table>\n",
       "</div>"
      ],
      "text/plain": [
       "                    addicted  not_addicted\n",
       "flagged_addict            44            42\n",
       "flagged_not_addict        15            99"
      ]
     },
     "execution_count": 3,
     "metadata": {},
     "output_type": "execute_result"
    }
   ],
   "source": [
    "import pandas as pd\n",
    "\n",
    "data = {\n",
    "    'addicted': {'flagged_addict': TP, 'flagged_not_addict': FN},\n",
    "    'not_addicted': {'flagged_addict': FP, 'flagged_not_addict': TN}\n",
    "}\n",
    "\n",
    "df = pd.DataFrame(data)\n",
    "df"
   ]
  },
  {
   "cell_type": "markdown",
   "metadata": {},
   "source": [
    "### Bayes Exercise *\"If the model predicts potential addiction, what is the probability that the patient may actually become addicted?\"*"
   ]
  },
  {
   "cell_type": "markdown",
   "metadata": {},
   "source": [
    "Posterior Probability = [ Sensitivity (Recall) * Prior Probability ] / Predicted Probability # Bayes' Theorem\n",
    "\n",
    "Predicted Probability = [ Sensitivity (Recall) * Prior Probability ] + [ False Positive rate * (1 - Prior Probability) ] # Total Probability"
   ]
  },
  {
   "cell_type": "code",
   "execution_count": 4,
   "metadata": {},
   "outputs": [],
   "source": [
    "total_patients = 100000"
   ]
  },
  {
   "cell_type": "code",
   "execution_count": 5,
   "metadata": {},
   "outputs": [
    {
     "data": {
      "text/plain": [
       "5000.0"
      ]
     },
     "execution_count": 5,
     "metadata": {},
     "output_type": "execute_result"
    }
   ],
   "source": [
    "prevalence_rate = 0.05\n",
    "\n",
    "addicted_patients = total_patients * prevalence_rate\n",
    "addicted_patients"
   ]
  },
  {
   "cell_type": "code",
   "execution_count": 9,
   "metadata": {},
   "outputs": [
    {
     "data": {
      "text/plain": [
       "95000.0"
      ]
     },
     "execution_count": 9,
     "metadata": {},
     "output_type": "execute_result"
    }
   ],
   "source": [
    "non_addicted_patients = total_patients - addicted_patients\n",
    "non_addicted_patients"
   ]
  },
  {
   "cell_type": "code",
   "execution_count": 20,
   "metadata": {},
   "outputs": [
    {
     "data": {
      "text/plain": [
       "3728.813559322034"
      ]
     },
     "execution_count": 20,
     "metadata": {},
     "output_type": "execute_result"
    }
   ],
   "source": [
    "# Test's sensitivity (true positive rate)\n",
    "flagged_addict_when_addicted = TP/(TP + FN) # in terms of TP & FN?\n",
    "\n",
    "addicted_patients_flagged_as_addict = addicted_patients * flagged_addict_when_addicted\n",
    "addicted_patients_flagged_as_addict"
   ]
  },
  {
   "cell_type": "code",
   "execution_count": 24,
   "metadata": {},
   "outputs": [
    {
     "data": {
      "text/plain": [
       "1271.186440677966"
      ]
     },
     "execution_count": 24,
     "metadata": {},
     "output_type": "execute_result"
    }
   ],
   "source": [
    "# Test's miss rate (false negative rate | Type II error)\n",
    "flagged_non_addict_when_addicted = FN/(TP + FN)# in terms of TP & FN?\n",
    "\n",
    "addicted_patients_not_flagged = addicted_patients * flagged_non_addict_when_addicted\n",
    "addicted_patients_not_flagged"
   ]
  },
  {
   "cell_type": "code",
   "execution_count": 26,
   "metadata": {},
   "outputs": [
    {
     "data": {
      "text/plain": [
       "28297.87234042553"
      ]
     },
     "execution_count": 26,
     "metadata": {},
     "output_type": "execute_result"
    }
   ],
   "source": [
    "# Test's false alarm rate (alpha) (false positive rate | Type I error)\n",
    "flagged_addict_when_not_addicted = FP/(FP + TN)# in terms of FP & TN?\n",
    "\n",
    "non_addicted_flagged_addict = non_addicted_patients * flagged_addict_when_not_addicted\n",
    "non_addicted_flagged_addict"
   ]
  },
  {
   "cell_type": "code",
   "execution_count": 29,
   "metadata": {},
   "outputs": [
    {
     "data": {
      "text/plain": [
       "66702.12765957447"
      ]
     },
     "execution_count": 29,
     "metadata": {},
     "output_type": "execute_result"
    }
   ],
   "source": [
    "# Test's specificity (true negative rate)\n",
    "flagged_non_addict_when_not_addicted = TN/(TN + FP)# In terms of TN & FP?\n",
    "\n",
    "non_addicted_not_flagged_addict = non_addicted_patients * flagged_non_addict_when_not_addicted\n",
    "non_addicted_not_flagged_addict"
   ]
  },
  {
   "cell_type": "markdown",
   "metadata": {},
   "source": [
    "### *\"If the model predicts potential addiction, what is the probability that the patient may actually become addicted?\"*"
   ]
  },
  {
   "cell_type": "code",
   "execution_count": 38,
   "metadata": {},
   "outputs": [
    {
     "data": {
      "text/markdown": [
       "\n",
       "    What's the change I'm one of the 3729 who could become an addict,\n",
       "    or am I just one of 28298 patients who the model classified as addicted but wouldn't become addicted?\n",
       "    "
      ],
      "text/plain": [
       "<IPython.core.display.Markdown object>"
      ]
     },
     "metadata": {},
     "output_type": "display_data"
    }
   ],
   "source": [
    "from IPython.display import display, Markdown\n",
    "display(\n",
    "    Markdown(\n",
    "    f'''\n",
    "    What's the change I'm one of the {round(addicted_patients_flagged_as_addict)} who could become an addict,\n",
    "    or am I just one of {round(non_addicted_flagged_addict)} patients who the model classified as addicted but wouldn't become addicted?\n",
    "    '''\n",
    "    )\n",
    "    )"
   ]
  },
  {
   "cell_type": "code",
   "execution_count": 39,
   "metadata": {},
   "outputs": [],
   "source": [
    "Addicted_flagged_addict = addicted_patients_flagged_as_addict / (addicted_patients_flagged_as_addict + non_addicted_flagged_addict)"
   ]
  },
  {
   "cell_type": "code",
   "execution_count": 50,
   "metadata": {},
   "outputs": [
    {
     "data": {
      "text/markdown": [
       "# The probability of being addicted given a positive test is 11.64%"
      ],
      "text/plain": [
       "<IPython.core.display.Markdown object>"
      ]
     },
     "metadata": {},
     "output_type": "display_data"
    }
   ],
   "source": [
    "display(Markdown(f\"# The probability of being addicted given a positive test is {Addicted_flagged_addict:.2%}\"))"
   ]
  },
  {
   "cell_type": "code",
   "execution_count": null,
   "metadata": {},
   "outputs": [],
   "source": []
  }
 ],
 "metadata": {
  "kernelspec": {
   "display_name": "hc_opioid",
   "language": "python",
   "name": "python3"
  },
  "language_info": {
   "codemirror_mode": {
    "name": "ipython",
    "version": 3
   },
   "file_extension": ".py",
   "mimetype": "text/x-python",
   "name": "python",
   "nbconvert_exporter": "python",
   "pygments_lexer": "ipython3",
   "version": "3.9.20"
  }
 },
 "nbformat": 4,
 "nbformat_minor": 2
}
